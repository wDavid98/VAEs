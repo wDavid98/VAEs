{
 "cells": [
  {
   "cell_type": "markdown",
   "metadata": {},
   "source": [
    "## Librerías "
   ]
  },
  {
   "cell_type": "code",
   "execution_count": 1,
   "metadata": {},
   "outputs": [
    {
     "name": "stderr",
     "output_type": "stream",
     "text": [
      "2024-07-21 04:58:40.800974: E tensorflow/compiler/xla/stream_executor/cuda/cuda_dnn.cc:9342] Unable to register cuDNN factory: Attempting to register factory for plugin cuDNN when one has already been registered\n",
      "2024-07-21 04:58:40.801008: E tensorflow/compiler/xla/stream_executor/cuda/cuda_fft.cc:609] Unable to register cuFFT factory: Attempting to register factory for plugin cuFFT when one has already been registered\n",
      "2024-07-21 04:58:40.801512: E tensorflow/compiler/xla/stream_executor/cuda/cuda_blas.cc:1518] Unable to register cuBLAS factory: Attempting to register factory for plugin cuBLAS when one has already been registered\n",
      "2024-07-21 04:58:40.851294: I tensorflow/core/platform/cpu_feature_guard.cc:182] This TensorFlow binary is optimized to use available CPU instructions in performance-critical operations.\n",
      "To enable the following instructions: AVX2 FMA, in other operations, rebuild TensorFlow with the appropriate compiler flags.\n"
     ]
    },
    {
     "name": "stdout",
     "output_type": "stream",
     "text": [
      "2.14.0\n"
     ]
    }
   ],
   "source": [
    "import os\n",
    "\n",
    "os.environ[\"CUDA_DEVICE_ORDER\"] = \"PCI_BUS_ID\"\n",
    "os.environ[\"CUDA_VISIBLE_DEVICES\"] = \"0\"\n",
    "os.environ['TF_ENABLE_ONEDNN_OPTS'] =  \"0\"\n",
    "\n",
    "\n",
    "\n",
    "import numpy as np\n",
    "import pandas as pd\n",
    "import matplotlib.pyplot as plt\n",
    "import scipy\n",
    "\n",
    "from tensorflow import keras \n",
    "from tensorflow.keras import layers\n",
    "from tensorflow.keras.datasets import mnist\n",
    "\n",
    "## Librerías\n",
    "import seaborn as sns\n",
    "import sys\n",
    "import cv2 as cv2\n",
    "import glob\n",
    "from PIL import Image\n",
    "import tensorflow as tf\n",
    "import sys\n",
    "import matplotlib.pyplot as plt\n",
    "import tensorflow as tf\n",
    "import pandas as pd\n",
    "import gc\n",
    "import tensorflow.keras as keras\n",
    "from sklearn.model_selection import train_test_split\n",
    "import os\n",
    "\n",
    "\n",
    "from sklearn.decomposition import PCA\n",
    "from sklearn.discriminant_analysis import LinearDiscriminantAnalysis as LDA\n",
    "from sklearn.preprocessing import StandardScaler\n",
    "\n",
    "print(tf.__version__)"
   ]
  },
  {
   "cell_type": "code",
   "execution_count": 2,
   "metadata": {},
   "outputs": [
    {
     "name": "stderr",
     "output_type": "stream",
     "text": [
      "2024-07-21 04:58:42.658436: I tensorflow/compiler/xla/stream_executor/cuda/cuda_gpu_executor.cc:894] successful NUMA node read from SysFS had negative value (-1), but there must be at least one NUMA node, so returning NUMA node zero. See more at https://github.com/torvalds/linux/blob/v6.0/Documentation/ABI/testing/sysfs-bus-pci#L344-L355\n",
      "2024-07-21 04:58:42.671629: I tensorflow/compiler/xla/stream_executor/cuda/cuda_gpu_executor.cc:894] successful NUMA node read from SysFS had negative value (-1), but there must be at least one NUMA node, so returning NUMA node zero. See more at https://github.com/torvalds/linux/blob/v6.0/Documentation/ABI/testing/sysfs-bus-pci#L344-L355\n",
      "2024-07-21 04:58:42.723603: I tensorflow/compiler/xla/stream_executor/cuda/cuda_gpu_executor.cc:894] successful NUMA node read from SysFS had negative value (-1), but there must be at least one NUMA node, so returning NUMA node zero. See more at https://github.com/torvalds/linux/blob/v6.0/Documentation/ABI/testing/sysfs-bus-pci#L344-L355\n"
     ]
    }
   ],
   "source": [
    "## Uso de GPU\n",
    "gpus = tf.config.experimental.list_physical_devices('GPU')\n",
    "tf.config.experimental.set_memory_growth(gpus[0], True)"
   ]
  },
  {
   "cell_type": "markdown",
   "metadata": {},
   "source": [
    "## Datos"
   ]
  },
  {
   "cell_type": "code",
   "execution_count": 3,
   "metadata": {},
   "outputs": [
    {
     "name": "stdout",
     "output_type": "stream",
     "text": [
      "Imágenes secas: 923\n",
      "MF1: 378\n",
      "MF2: 284\n",
      "MF3: 261\n"
     ]
    },
    {
     "data": {
      "text/html": [
       "<div>\n",
       "<style scoped>\n",
       "    .dataframe tbody tr th:only-of-type {\n",
       "        vertical-align: middle;\n",
       "    }\n",
       "\n",
       "    .dataframe tbody tr th {\n",
       "        vertical-align: top;\n",
       "    }\n",
       "\n",
       "    .dataframe thead th {\n",
       "        text-align: right;\n",
       "    }\n",
       "</style>\n",
       "<table border=\"1\" class=\"dataframe\">\n",
       "  <thead>\n",
       "    <tr style=\"text-align: right;\">\n",
       "      <th></th>\n",
       "      <th>name</th>\n",
       "      <th>route_image</th>\n",
       "      <th>label</th>\n",
       "      <th>number</th>\n",
       "      <th>route_mask</th>\n",
       "    </tr>\n",
       "  </thead>\n",
       "  <tbody>\n",
       "    <tr>\n",
       "      <th>121</th>\n",
       "      <td>IMG_20230707_162034_jpg</td>\n",
       "      <td>../../../Datasets/Micrografías segmentaciones/...</td>\n",
       "      <td>0</td>\n",
       "      <td>1</td>\n",
       "      <td>../../../Datasets/Micrografías segmentaciones/...</td>\n",
       "    </tr>\n",
       "    <tr>\n",
       "      <th>639</th>\n",
       "      <td>IMG_20230711_170135_jpg</td>\n",
       "      <td>../../../Datasets/Micrografías segmentaciones/...</td>\n",
       "      <td>1</td>\n",
       "      <td>4</td>\n",
       "      <td>../../../Datasets/Micrografías segmentaciones/...</td>\n",
       "    </tr>\n",
       "    <tr>\n",
       "      <th>589</th>\n",
       "      <td>IMG_20230711_163549_jpg</td>\n",
       "      <td>../../../Datasets/Micrografías segmentaciones/...</td>\n",
       "      <td>1</td>\n",
       "      <td>3</td>\n",
       "      <td>../../../Datasets/Micrografías segmentaciones/...</td>\n",
       "    </tr>\n",
       "    <tr>\n",
       "      <th>339</th>\n",
       "      <td>IMG_20230707_180703_jpg</td>\n",
       "      <td>../../../Datasets/Micrografías segmentaciones/...</td>\n",
       "      <td>0</td>\n",
       "      <td>5</td>\n",
       "      <td>../../../Datasets/Micrografías segmentaciones/...</td>\n",
       "    </tr>\n",
       "    <tr>\n",
       "      <th>16</th>\n",
       "      <td>IMG_20230601_152117_jpg</td>\n",
       "      <td>../../../Datasets/Micrografías segmentaciones/...</td>\n",
       "      <td>2</td>\n",
       "      <td>1</td>\n",
       "      <td>../../../Datasets/Micrografías segmentaciones/...</td>\n",
       "    </tr>\n",
       "    <tr>\n",
       "      <th>...</th>\n",
       "      <td>...</td>\n",
       "      <td>...</td>\n",
       "      <td>...</td>\n",
       "      <td>...</td>\n",
       "      <td>...</td>\n",
       "    </tr>\n",
       "    <tr>\n",
       "      <th>170</th>\n",
       "      <td>IMG_20230707_164323_jpg</td>\n",
       "      <td>../../../Datasets/Micrografías segmentaciones/...</td>\n",
       "      <td>0</td>\n",
       "      <td>2</td>\n",
       "      <td>../../../Datasets/Micrografías segmentaciones/...</td>\n",
       "    </tr>\n",
       "    <tr>\n",
       "      <th>804</th>\n",
       "      <td>IMG_20230711_212055_jpg</td>\n",
       "      <td>../../../Datasets/Micrografías segmentaciones/...</td>\n",
       "      <td>2</td>\n",
       "      <td>7</td>\n",
       "      <td>../../../Datasets/Micrografías segmentaciones/...</td>\n",
       "    </tr>\n",
       "    <tr>\n",
       "      <th>114</th>\n",
       "      <td>IMG_20230707_161923_jpg</td>\n",
       "      <td>../../../Datasets/Micrografías segmentaciones/...</td>\n",
       "      <td>0</td>\n",
       "      <td>1</td>\n",
       "      <td>../../../Datasets/Micrografías segmentaciones/...</td>\n",
       "    </tr>\n",
       "    <tr>\n",
       "      <th>624</th>\n",
       "      <td>IMG_20230711_165942_jpg</td>\n",
       "      <td>../../../Datasets/Micrografías segmentaciones/...</td>\n",
       "      <td>1</td>\n",
       "      <td>4</td>\n",
       "      <td>../../../Datasets/Micrografías segmentaciones/...</td>\n",
       "    </tr>\n",
       "    <tr>\n",
       "      <th>447</th>\n",
       "      <td>IMG_20230707_191603_jpg</td>\n",
       "      <td>../../../Datasets/Micrografías segmentaciones/...</td>\n",
       "      <td>0</td>\n",
       "      <td>7</td>\n",
       "      <td>../../../Datasets/Micrografías segmentaciones/...</td>\n",
       "    </tr>\n",
       "  </tbody>\n",
       "</table>\n",
       "<p>923 rows × 5 columns</p>\n",
       "</div>"
      ],
      "text/plain": [
       "                        name  \\\n",
       "121  IMG_20230707_162034_jpg   \n",
       "639  IMG_20230711_170135_jpg   \n",
       "589  IMG_20230711_163549_jpg   \n",
       "339  IMG_20230707_180703_jpg   \n",
       "16   IMG_20230601_152117_jpg   \n",
       "..                       ...   \n",
       "170  IMG_20230707_164323_jpg   \n",
       "804  IMG_20230711_212055_jpg   \n",
       "114  IMG_20230707_161923_jpg   \n",
       "624  IMG_20230711_165942_jpg   \n",
       "447  IMG_20230707_191603_jpg   \n",
       "\n",
       "                                           route_image label number  \\\n",
       "121  ../../../Datasets/Micrografías segmentaciones/...     0      1   \n",
       "639  ../../../Datasets/Micrografías segmentaciones/...     1      4   \n",
       "589  ../../../Datasets/Micrografías segmentaciones/...     1      3   \n",
       "339  ../../../Datasets/Micrografías segmentaciones/...     0      5   \n",
       "16   ../../../Datasets/Micrografías segmentaciones/...     2      1   \n",
       "..                                                 ...   ...    ...   \n",
       "170  ../../../Datasets/Micrografías segmentaciones/...     0      2   \n",
       "804  ../../../Datasets/Micrografías segmentaciones/...     2      7   \n",
       "114  ../../../Datasets/Micrografías segmentaciones/...     0      1   \n",
       "624  ../../../Datasets/Micrografías segmentaciones/...     1      4   \n",
       "447  ../../../Datasets/Micrografías segmentaciones/...     0      7   \n",
       "\n",
       "                                            route_mask  \n",
       "121  ../../../Datasets/Micrografías segmentaciones/...  \n",
       "639  ../../../Datasets/Micrografías segmentaciones/...  \n",
       "589  ../../../Datasets/Micrografías segmentaciones/...  \n",
       "339  ../../../Datasets/Micrografías segmentaciones/...  \n",
       "16   ../../../Datasets/Micrografías segmentaciones/...  \n",
       "..                                                 ...  \n",
       "170  ../../../Datasets/Micrografías segmentaciones/...  \n",
       "804  ../../../Datasets/Micrografías segmentaciones/...  \n",
       "114  ../../../Datasets/Micrografías segmentaciones/...  \n",
       "624  ../../../Datasets/Micrografías segmentaciones/...  \n",
       "447  ../../../Datasets/Micrografías segmentaciones/...  \n",
       "\n",
       "[923 rows x 5 columns]"
      ]
     },
     "execution_count": 3,
     "metadata": {},
     "output_type": "execute_result"
    }
   ],
   "source": [
    "## Obtener todas las rutas de las imágenes en el dataset\n",
    "ruta = '../Datasets/Micrografías_segmentadas/secas/*/*/*/*.jpg'\n",
    "rutas_dataset  = glob.glob('../../../Datasets/Micrografías segmentaciones/secas/*/*/*/*.jpg')\n",
    "\n",
    "## Separar rutas\n",
    "mask_list = []\n",
    "image_list = []\n",
    "for ruta in rutas_dataset:    \n",
    "    ruta_list = ruta.split('/')       \n",
    "    clase = ruta_list[6]\n",
    "    number = ruta_list[7]\n",
    "    tipo = ruta_list[8]\n",
    "    name = ruta_list[9].split('.')[0]\n",
    "    \n",
    "    if tipo == 'train':\n",
    "        image_list.append([name,ruta,clase,number])\n",
    "    elif tipo == 'mask_bin':\n",
    "        mask_list.append([name,ruta,clase,number])\n",
    "    else:\n",
    "        None\n",
    "\n",
    "mask_pd = pd.DataFrame(mask_list,columns=['name','route_mask','label','number']).sort_values(by='name')\n",
    "image_pd = pd.DataFrame(image_list,columns=['name','route_image','label','number']).sort_values(by='name')\n",
    "\n",
    "routes_dataset = image_pd.merge(mask_pd,on=['name','label','number'],how='left')\n",
    "\n",
    "routes_dataset.dropna(inplace=True)\n",
    "\n",
    "routes_dataset = routes_dataset.sample(frac = 1)\n",
    "\n",
    "print('Imágenes secas:', np.shape(routes_dataset)[0])\n",
    "print('MF1:', np.shape(routes_dataset[routes_dataset['label']=='MF1'])[0])\n",
    "print('MF2:', np.shape(routes_dataset[routes_dataset['label']=='MF2'])[0])\n",
    "print('MF3:', np.shape(routes_dataset[routes_dataset['label']=='MF3'])[0])\n",
    "\n",
    "char_to_num = {'MF1':'0','MF2':'1','MF3':'2'}\n",
    "\n",
    "routes_dataset['label'].replace(char_to_num,inplace=True)\n",
    "\n",
    "routes_dataset"
   ]
  },
  {
   "cell_type": "code",
   "execution_count": 4,
   "metadata": {},
   "outputs": [
    {
     "name": "stdout",
     "output_type": "stream",
     "text": [
      "Clase MF1: train:  303 , test:  75\n",
      "Clase MF2: train:  228 , test:  56\n",
      "Clase MF3: train:  209 , test:  52\n"
     ]
    }
   ],
   "source": [
    "## Establecer el porcentaje de separación\n",
    "thold1 = int(np.ceil(0.8 * len(routes_dataset[routes_dataset.label=='0'])))\n",
    "thold2 = int(np.ceil(0.8 * len(routes_dataset[routes_dataset.label=='1'])))\n",
    "thold3 = int(np.ceil(0.8 * len(routes_dataset[routes_dataset.label=='2'])))\n",
    "\n",
    "## Separar por clases para entrenamiento\n",
    "train_cu1 = routes_dataset[routes_dataset.label == '0'][0:thold1]\n",
    "train_cu2 = routes_dataset[routes_dataset.label == '1'][0:thold2]\n",
    "train_cu3 = routes_dataset[routes_dataset.label == '2'][0:thold3]\n",
    "\n",
    "## tomar las demás imágenes para test\n",
    "test_cu1 = routes_dataset[routes_dataset.label == '0'][thold1:]\n",
    "test_cu2 = routes_dataset[routes_dataset.label == '1'][thold2:]\n",
    "test_cu3 = routes_dataset[routes_dataset.label == '2'][thold3:]\n",
    "\n",
    "\n",
    "## Constuir un solo dataset de training\n",
    "train_df =  pd.concat([pd.concat([train_cu1,train_cu2]),train_cu3]).sample(frac=1,random_state=42).reset_index(drop=True)\n",
    "\n",
    "## Construir un solo dataset de test\n",
    "test_df = pd.concat([pd.concat([test_cu1,test_cu2]),test_cu3]).sample(frac=1,random_state=100).reset_index(drop=True)\n",
    "\n",
    "## Cantidad de muestras por clase\n",
    "print('Clase MF1: train: ',len(train_cu1),', test: ',len(test_cu1))\n",
    "print('Clase MF2: train: ',len(train_cu2),', test: ',len(test_cu2))\n",
    "print('Clase MF3: train: ',len(train_cu3),', test: ',len(test_cu3))"
   ]
  },
  {
   "cell_type": "code",
   "execution_count": 5,
   "metadata": {},
   "outputs": [
    {
     "name": "stderr",
     "output_type": "stream",
     "text": [
      "2024-07-21 04:58:42.788758: I tensorflow/compiler/xla/stream_executor/cuda/cuda_gpu_executor.cc:894] successful NUMA node read from SysFS had negative value (-1), but there must be at least one NUMA node, so returning NUMA node zero. See more at https://github.com/torvalds/linux/blob/v6.0/Documentation/ABI/testing/sysfs-bus-pci#L344-L355\n",
      "2024-07-21 04:58:42.789097: I tensorflow/compiler/xla/stream_executor/cuda/cuda_gpu_executor.cc:894] successful NUMA node read from SysFS had negative value (-1), but there must be at least one NUMA node, so returning NUMA node zero. See more at https://github.com/torvalds/linux/blob/v6.0/Documentation/ABI/testing/sysfs-bus-pci#L344-L355\n",
      "2024-07-21 04:58:42.789232: I tensorflow/compiler/xla/stream_executor/cuda/cuda_gpu_executor.cc:894] successful NUMA node read from SysFS had negative value (-1), but there must be at least one NUMA node, so returning NUMA node zero. See more at https://github.com/torvalds/linux/blob/v6.0/Documentation/ABI/testing/sysfs-bus-pci#L344-L355\n",
      "2024-07-21 04:58:42.865619: I tensorflow/compiler/xla/stream_executor/cuda/cuda_gpu_executor.cc:894] successful NUMA node read from SysFS had negative value (-1), but there must be at least one NUMA node, so returning NUMA node zero. See more at https://github.com/torvalds/linux/blob/v6.0/Documentation/ABI/testing/sysfs-bus-pci#L344-L355\n",
      "2024-07-21 04:58:42.865763: I tensorflow/compiler/xla/stream_executor/cuda/cuda_gpu_executor.cc:894] successful NUMA node read from SysFS had negative value (-1), but there must be at least one NUMA node, so returning NUMA node zero. See more at https://github.com/torvalds/linux/blob/v6.0/Documentation/ABI/testing/sysfs-bus-pci#L344-L355\n",
      "2024-07-21 04:58:42.865883: I tensorflow/compiler/xla/stream_executor/cuda/cuda_gpu_executor.cc:894] successful NUMA node read from SysFS had negative value (-1), but there must be at least one NUMA node, so returning NUMA node zero. See more at https://github.com/torvalds/linux/blob/v6.0/Documentation/ABI/testing/sysfs-bus-pci#L344-L355\n",
      "2024-07-21 04:58:42.865978: I tensorflow/core/common_runtime/gpu/gpu_device.cc:1886] Created device /job:localhost/replica:0/task:0/device:GPU:0 with 7587 MB memory:  -> device: 0, name: NVIDIA GeForce RTX 3080, pci bus id: 0000:08:00.0, compute capability: 8.6\n"
     ]
    }
   ],
   "source": [
    "## Function to get contours and features\n",
    "def get_contours_and_features(binary_map):\n",
    "    # get binary map\n",
    "    binary_map = cv2.cvtColor(binary_map, cv2.COLOR_BGR2GRAY)\n",
    "    # get contours from binary map\n",
    "    contours, hierarchy = cv2.findContours(binary_map, cv2.RETR_EXTERNAL, cv2.CHAIN_APPROX_NONE)\n",
    "    # get features from contours\n",
    "    contours_features = []\n",
    "    for contour in contours:\n",
    "        error = 1e-5\n",
    "\n",
    "        moments = cv2.moments(contour)\n",
    "        cx = moments['m10'] / (moments['m00'] + error)\n",
    "        cy = moments['m01'] / (moments['m00'] + error)\n",
    "        center_of_mass = [cx, cy]\n",
    "        features = {\n",
    "            'area': cv2.contourArea(contour),\n",
    "            'perimeter': cv2.arcLength(contour, True),\n",
    "            'moments': moments,\n",
    "            'center_of_mass': center_of_mass,\n",
    "            'contour': contour\n",
    "        }\n",
    "        contours_features.append(features)\n",
    "        del features    \n",
    "    return contours_features\n",
    "\n",
    "# function to get a determined property from a list of contours features (area by default)\n",
    "def get_item(contour_features, key='area'):\n",
    "    areas = []\n",
    "    for contour_feature in contour_features:\n",
    "        area =  contour_feature[key]\n",
    "        areas.append(area)\n",
    "    return areas\n",
    "\n",
    "# function to get tensor of one image\n",
    "def load_image(file_name):\n",
    "  raw = tf.io.read_file(file_name)\n",
    "  tensor = tf.io.decode_jpeg(raw,channels=1)\n",
    "  tensor = tf.image.resize(tensor, [128,128])\n",
    "  tensor = tf.cast(tensor, tf.float32) / 255.0\n",
    "  return tensor\n",
    "\n",
    "# function to get set of binary image from image loaded\n",
    "def get_binary_image(filenames):\n",
    "    tensores = []\n",
    "    for filename in filenames:\n",
    "        raw = tf.io.read_file(filename)\n",
    "        tensor = tf.io.decode_jpeg(raw,channels=3)\n",
    "        tensor = tf.image.resize(tensor, [128,128])\n",
    "        tensor = tf.cast(tensor, tf.float32) / 255.0\n",
    "        tensores.append(tensor)\n",
    "    return tensores\n",
    "\n",
    "def get_geometric_atributes(binary_images):\n",
    "    atributes = []\n",
    "    for binary_img in binary_images:\n",
    "        ## Formato\n",
    "        image = binary_img.numpy().astype(np.uint8)       \n",
    "        \n",
    "        ## Capturar contornos\n",
    "        contour_features = get_contours_and_features(image)        \n",
    "\n",
    "        ## obtener área de poros##\n",
    "        area = np.ceil(np.sum(get_item(contour_features, key='area')))\n",
    "\n",
    "        ## obtener perímetro de poros\n",
    "        perimetro = np.ceil(np.sum(get_item(contour_features, key='perimeter'))\n",
    ")\n",
    "        ## intersticio\n",
    "        area_total = np.ceil(np.shape(image)[0] * np.shape(image)[1])\n",
    "        intersticio = np.ceil(area_total - area)\n",
    "\n",
    "        ## Cantidad de poros\n",
    "        poros = np.shape(contour_features)[0]\n",
    "\n",
    "        #atributes = [area,perimetro,intersticio,poros]\n",
    "        atributes.append([area,perimetro,intersticio,poros])\n",
    "    \n",
    "    return atributes\n",
    "\n",
    "def create_dataset(buffer,file_names, labels, file_mask): \n",
    "  ## Get binary images   \n",
    "  masks = get_binary_image(file_mask)\n",
    "  ## Get geometric atributes from binary images\n",
    "  attributes = get_geometric_atributes(masks)\n",
    "  ## Create dataset from tensors assosiated with labels and attributes\n",
    "  dataset = tf.data.Dataset.from_tensor_slices((file_names,labels,attributes))\n",
    "  ## Shuffle dataset\n",
    "  dataset.shuffle(buffer_size=buffer)\n",
    "  ## Map dataset to load images (a = image, b = label, c = attributes, d = mask)\n",
    "  dataset = dataset.map(lambda file_name, label, attributes : (load_image(file_name), label, attributes))\n",
    "\n",
    "  return dataset\n",
    "\n",
    "file_names = train_df['route_image'].to_numpy()\n",
    "file_mask = train_df['route_mask'].to_numpy()\n",
    "labels = train_df['label'].to_numpy()\n",
    "## Create training dataset using tf.data of 16 images\n",
    "dataset = create_dataset(16,file_names, labels,file_mask)"
   ]
  },
  {
   "cell_type": "code",
   "execution_count": 6,
   "metadata": {},
   "outputs": [
    {
     "name": "stdout",
     "output_type": "stream",
     "text": [
      "Test: train-> (183, 128, 128, 1)  test -> (183,)\n"
     ]
    }
   ],
   "source": [
    "## Dataset de prueba\n",
    "test_df = test_df.sample(frac=1,random_state=42).reset_index(drop=True)\n",
    "\n",
    "X_test_secas = []\n",
    "y_test_secas = []\n",
    "\n",
    "nsize = 128\n",
    "\n",
    "## Recorrerr rutas\n",
    "for i in range(len(test_df)):\n",
    "    \n",
    "    #Capturar ruta y label\n",
    "    ruta = test_df.iloc[i].route_image\n",
    "    label = test_df.iloc[i].label\n",
    "    \n",
    "    ##cargar imagen\n",
    "    im = tf.keras.preprocessing.image.load_img(ruta,color_mode='grayscale')\n",
    "    \n",
    "    X_test_secas.append(tf.keras.preprocessing.image.img_to_array(im.resize((nsize,nsize))))\n",
    "    y_test_secas.append(test_df.iloc[i].label)\n",
    "    \n",
    "print('Test: train->',np.shape(X_test_secas),' test ->',np.shape(y_test_secas))"
   ]
  },
  {
   "cell_type": "code",
   "execution_count": 7,
   "metadata": {},
   "outputs": [
    {
     "name": "stdout",
     "output_type": "stream",
     "text": [
      "Number of images in x_test (183, 128, 128, 1) y_test:  (183,)\n"
     ]
    }
   ],
   "source": [
    "x_test_secas = np.array(X_test_secas)\n",
    "x_test_secas= x_test_secas.astype('float32')\n",
    " \n",
    "#y_test_secas = tf.keras.utils.to_categorical(y_test_secas)\n",
    "#y_train_expanded = tf.keras.utils.to_categorical(y_train_expanded) \n",
    "\n",
    "#x_train_expanded /= 255\n",
    "x_test_secas /= 255\n",
    "\n",
    "print('Number of images in x_test', x_test_secas.shape, \"y_test: \", np.shape(y_test_secas))"
   ]
  },
  {
   "cell_type": "code",
   "execution_count": 8,
   "metadata": {},
   "outputs": [
    {
     "name": "stdout",
     "output_type": "stream",
     "text": [
      "(740, 128, 128, 1) (740,)\n"
     ]
    }
   ],
   "source": [
    "x_train = []\n",
    "y_train_ten = []\n",
    "for data,label,attributes in dataset.batch(8):\n",
    "    x_train.extend(data[:].numpy())\n",
    "    y_train_ten.extend(label)   \n",
    "\n",
    "x_train = np.array(x_train)\n",
    "x_train = x_train.astype('float32')\n",
    "\n",
    "y_train= []\n",
    "for i in y_train_ten:\n",
    "    y_train.append(str(int(i)))\n",
    "\n",
    "print(np.shape(x_train),np.shape(y_train))"
   ]
  },
  {
   "cell_type": "markdown",
   "metadata": {},
   "source": [
    "## Modelo"
   ]
  },
  {
   "cell_type": "code",
   "execution_count": 9,
   "metadata": {},
   "outputs": [],
   "source": [
    "class Sampling(layers.Layer):\n",
    "    \"\"\"Uses (z_mean, z_log_var) to sample z, the vector encoding a digit.\"\"\"\n",
    "\n",
    "    def call(self, inputs):\n",
    "        z_mean, z_log_var = inputs\n",
    "        batch = tf.shape(z_mean)[0]\n",
    "        dim = tf.shape(z_mean)[1]\n",
    "        epsilon = tf.keras.backend.random_normal(shape=(batch, dim))\n",
    "        return z_mean + tf.exp(0.5 * z_log_var) * epsilon"
   ]
  },
  {
   "cell_type": "code",
   "execution_count": 10,
   "metadata": {},
   "outputs": [
    {
     "name": "stdout",
     "output_type": "stream",
     "text": [
      "WARNING:tensorflow:No training configuration found in the save file, so the model was *not* compiled. Compile it manually.\n",
      "WARNING:tensorflow:No training configuration found in the save file, so the model was *not* compiled. Compile it manually.\n"
     ]
    }
   ],
   "source": [
    "encoder = keras.models.load_model('Models2/weakly_disc_GVAE_encoder_DRY_1_16.h5', custom_objects={'Sampling':Sampling})\n",
    "decoder = keras.models.load_model('Models2/weakly_disc_GVAE_decoder_DRY_1_16.h5', custom_objects={'Sampling':Sampling})"
   ]
  },
  {
   "cell_type": "markdown",
   "metadata": {},
   "source": [
    "## Clasificación"
   ]
  },
  {
   "cell_type": "code",
   "execution_count": 11,
   "metadata": {},
   "outputs": [
    {
     "name": "stdout",
     "output_type": "stream",
     "text": [
      "Train:  (740, 128, 128, 1) (740,)\n",
      "Test:  (183, 128, 128, 1) (183,)\n"
     ]
    },
    {
     "name": "stderr",
     "output_type": "stream",
     "text": [
      "2024-07-21 04:58:57.464865: I tensorflow/compiler/xla/stream_executor/cuda/cuda_dnn.cc:442] Loaded cuDNN version 8600\n",
      "2024-07-21 04:58:57.723182: W tensorflow/tsl/framework/bfc_allocator.cc:296] Allocator (GPU_0_bfc) ran out of memory trying to allocate 2.02GiB with freed_by_count=0. The caller indicates that this is not a failure, but this may mean that there could be performance gains if more memory were available.\n",
      "2024-07-21 04:58:57.723664: W tensorflow/tsl/framework/bfc_allocator.cc:296] Allocator (GPU_0_bfc) ran out of memory trying to allocate 2.02GiB with freed_by_count=0. The caller indicates that this is not a failure, but this may mean that there could be performance gains if more memory were available.\n",
      "2024-07-21 04:58:57.723696: W tensorflow/tsl/framework/bfc_allocator.cc:296] Allocator (GPU_0_bfc) ran out of memory trying to allocate 2.02GiB with freed_by_count=0. The caller indicates that this is not a failure, but this may mean that there could be performance gains if more memory were available.\n",
      "2024-07-21 04:58:57.762909: W tensorflow/tsl/framework/bfc_allocator.cc:296] Allocator (GPU_0_bfc) ran out of memory trying to allocate 2.02GiB with freed_by_count=0. The caller indicates that this is not a failure, but this may mean that there could be performance gains if more memory were available.\n"
     ]
    },
    {
     "name": "stdout",
     "output_type": "stream",
     "text": [
      "24/24 [==============================] - 4s 125ms/step\n",
      "Shape_embs:  (3, 740, 16)\n",
      "6/6 [==============================] - 1s 279ms/step\n",
      "Shape_embs:  (3, 183, 16)\n"
     ]
    }
   ],
   "source": [
    "data_train = x_train\n",
    "data_test = x_test_secas\n",
    "\n",
    "label_train = y_train\n",
    "label_test = y_test_secas\n",
    "\n",
    "print('Train: ',np.shape(data_train),np.shape(label_train))\n",
    "print('Test: ',np.shape(data_test),np.shape(label_test))\n",
    "\n",
    "# Embebidos del encoder\n",
    "encoder_embds  = encoder.predict(data_train)\n",
    "print('Shape_embs: ',np.shape(encoder_embds))\n",
    "\n",
    "# Embebidos del encoder\n",
    "encoder_embds_test  = encoder.predict(data_test)\n",
    "print('Shape_embs: ',np.shape(encoder_embds_test))"
   ]
  },
  {
   "cell_type": "code",
   "execution_count": 12,
   "metadata": {},
   "outputs": [
    {
     "name": "stdout",
     "output_type": "stream",
     "text": [
      "{'0': 0, '1': 1, '2': 2}\n",
      "(740, 3)\n"
     ]
    }
   ],
   "source": [
    "char_to_num_new = {'0':0,'1':1,'2':2}\n",
    "print(char_to_num_new)\n",
    "print(np.shape(tf.keras.utils.to_categorical(label_train)))"
   ]
  },
  {
   "cell_type": "code",
   "execution_count": 13,
   "metadata": {},
   "outputs": [],
   "source": [
    "## Embebidos\n",
    "#--- Train\n",
    "media_train = encoder_embds[0]\n",
    "variance_train = encoder_embds[1]\n",
    "z_train = encoder_embds[2]\n",
    "\n",
    "#--- Test\n",
    "media_test = encoder_embds_test[0]\n",
    "variance_test = encoder_embds_test[1]\n",
    "z_test = encoder_embds_test[2]\n",
    "\n",
    "#--- labels\n",
    "#labels_text_test\n",
    "#labels_text\n",
    "#images_df['label'].replace(char_to_num,inplace=True)\n",
    "\n",
    "data_embs_train = pd.DataFrame()\n",
    "data_embs_train ['mean'] =  media_train.tolist()\n",
    "data_embs_train ['var'] =  variance_train.tolist()\n",
    "data_embs_train ['z'] =  z_train.tolist()\n",
    "data_embs_train ['labels'] = list(pd.DataFrame(label_train).replace(char_to_num_new).values.reshape(-1))\n",
    "\n",
    "data_embs_test = pd.DataFrame()\n",
    "data_embs_test ['mean'] =  media_test.tolist()\n",
    "data_embs_test ['var'] =  variance_test.tolist()\n",
    "data_embs_test ['z'] =  z_test.tolist()\n",
    "data_embs_test ['labels'] = list(pd.DataFrame(label_test).replace(char_to_num_new).values.reshape(-1))"
   ]
  },
  {
   "cell_type": "markdown",
   "metadata": {},
   "source": [
    "### Decision trees"
   ]
  },
  {
   "cell_type": "code",
   "execution_count": 14,
   "metadata": {},
   "outputs": [],
   "source": [
    "## Embebido\n",
    "estist = 'z'"
   ]
  },
  {
   "cell_type": "code",
   "execution_count": 15,
   "metadata": {},
   "outputs": [
    {
     "name": "stdout",
     "output_type": "stream",
     "text": [
      "max:  0.9447368421052632  - depth:  57\n",
      "accuracy 0.896 (+/- 0.05709)\n"
     ]
    },
    {
     "data": {
      "image/png": "[encoded data removed]",
      "text/plain": [
       "<Figure size 640x480 with 1 Axes>"
      ]
     },
     "metadata": {},
     "output_type": "display_data"
    }
   ],
   "source": [
    "from sklearn.tree import DecisionTreeClassifier\n",
    "from sklearn.model_selection import cross_val_score\n",
    "from sklearn.model_selection import KFold\n",
    "from sklearn.metrics import *\n",
    "\n",
    "dpst = []\n",
    "acs = []\n",
    "\n",
    "for d in np.linspace(1,200,15, dtype=int):\n",
    "    est_DT_mean = DecisionTreeClassifier(max_depth=d,random_state=42)\n",
    "\n",
    "    x = list(data_embs_test[estist].values)\n",
    "    y = tf.keras.utils.to_categorical(list(data_embs_test['labels'].values))\n",
    "\n",
    "    s = cross_val_score(est_DT_mean, x,y, cv=KFold(10, shuffle=True), scoring=make_scorer(accuracy_score))\n",
    "    acs.append(np.mean(s))\n",
    "    dpst.append(d)\n",
    "    \n",
    "\n",
    "print('max: ',np.max(acs),' - depth: ',dpst[np.argmax(acs)])\n",
    "print(\"accuracy %.3f (+/- %.5f)\"%(np.mean(s), np.std(s)))\n",
    "plt.plot(dpst,acs)\n",
    "plt.show()"
   ]
  },
  {
   "cell_type": "code",
   "execution_count": 16,
   "metadata": {},
   "outputs": [
    {
     "name": "stdout",
     "output_type": "stream",
     "text": [
      "              precision    recall  f1-score   support\n",
      "\n",
      "         MF1       0.90      0.95      0.92        75\n",
      "         MF2       0.84      0.84      0.84        56\n",
      "         MF3       0.98      0.90      0.94        52\n",
      "\n",
      "   micro avg       0.90      0.90      0.90       183\n",
      "   macro avg       0.91      0.90      0.90       183\n",
      "weighted avg       0.90      0.90      0.90       183\n",
      " samples avg       0.90      0.90      0.90       183\n",
      "\n"
     ]
    }
   ],
   "source": [
    "x_DT_train = list(data_embs_train[estist].values)\n",
    "y_DT_train = tf.keras.utils.to_categorical(list(data_embs_train['labels'].values))\n",
    "est_DT_mean = DecisionTreeClassifier(max_depth=np.argmax(acs),random_state=42)\n",
    "est_DT_mean.fit(x_DT_train ,y_DT_train)\n",
    "\n",
    "x = list(data_embs_test[estist].values)\n",
    "y = tf.keras.utils.to_categorical(list(data_embs_test['labels'].values))\n",
    "y_predicted = est_DT_mean.predict(x)\n",
    "\n",
    "target_names = ['MF1', 'MF2', 'MF3']\n",
    "print(classification_report(y, y_predicted,target_names=target_names))"
   ]
  },
  {
   "cell_type": "markdown",
   "metadata": {},
   "source": [
    "### Random forest"
   ]
  },
  {
   "cell_type": "code",
   "execution_count": 17,
   "metadata": {},
   "outputs": [
    {
     "name": "stdout",
     "output_type": "stream",
     "text": [
      "max:  0.962280701754386  - depth:  157\n",
      "accuracy 0.951 (+/- 0.03704)\n"
     ]
    },
    {
     "data": {
      "image/png": "[encoded data removed]",
      "text/plain": [
       "<Figure size 640x480 with 1 Axes>"
      ]
     },
     "metadata": {},
     "output_type": "display_data"
    }
   ],
   "source": [
    "from sklearn.ensemble import RandomForestClassifier\n",
    "from sklearn.model_selection import cross_val_score\n",
    "\n",
    "\n",
    "acs = []\n",
    "dpst = []\n",
    "\n",
    "for d in np.linspace(1,200,15, dtype=int):\n",
    "    est_RF_mean = RandomForestClassifier(max_depth=d,random_state=42)\n",
    "\n",
    "    x = list(data_embs_test[estist].values)\n",
    "    y = tf.keras.utils.to_categorical(list(data_embs_test['labels'].values))\n",
    "\n",
    "    s = cross_val_score(est_RF_mean, x,y, cv=KFold(10, shuffle=True), scoring=make_scorer(accuracy_score))\n",
    "    acs.append(np.mean(s))\n",
    "    dpst.append(d)\n",
    "    \n",
    "print('max: ',np.max(acs),' - depth: ',dpst[np.argmax(acs)])\n",
    "print(\"accuracy %.3f (+/- %.5f)\"%(np.mean(s), np.std(s)))\n",
    "plt.plot(dpst,acs)\n",
    "\n",
    "plt.show()"
   ]
  },
  {
   "cell_type": "code",
   "execution_count": 18,
   "metadata": {},
   "outputs": [
    {
     "name": "stdout",
     "output_type": "stream",
     "text": [
      "              precision    recall  f1-score   support\n",
      "\n",
      "         MF1       0.96      0.95      0.95        75\n",
      "         MF2       0.91      0.95      0.93        56\n",
      "         MF3       1.00      0.96      0.98        52\n",
      "\n",
      "   micro avg       0.96      0.95      0.95       183\n",
      "   macro avg       0.96      0.95      0.95       183\n",
      "weighted avg       0.96      0.95      0.95       183\n",
      " samples avg       0.95      0.95      0.95       183\n",
      "\n"
     ]
    },
    {
     "name": "stderr",
     "output_type": "stream",
     "text": [
      "/usr/local/lib/python3.11/dist-packages/sklearn/metrics/_classification.py:1471: UndefinedMetricWarning: Precision and F-score are ill-defined and being set to 0.0 in samples with no predicted labels. Use `zero_division` parameter to control this behavior.\n",
      "  _warn_prf(average, modifier, msg_start, len(result))\n"
     ]
    }
   ],
   "source": [
    "x_RF_train = list(data_embs_train[estist].values)\n",
    "y_RF_train = tf.keras.utils.to_categorical(list(data_embs_train['labels'].values))\n",
    "est_RF_mean = RandomForestClassifier(max_depth=dpst[np.argmax(acs)],random_state=42)\n",
    "est_RF_mean.fit(x_RF_train ,y_RF_train)\n",
    "\n",
    "x = list(data_embs_test[estist].values)\n",
    "y = tf.keras.utils.to_categorical(list(data_embs_test['labels'].values))\n",
    "y_predicted = est_RF_mean.predict(x)\n",
    "\n",
    "target_names = ['MF1', 'MF2', 'MF3']\n",
    "print(classification_report(y, y_predicted,target_names=target_names))"
   ]
  },
  {
   "cell_type": "markdown",
   "metadata": {},
   "source": [
    "### KNN"
   ]
  },
  {
   "cell_type": "code",
   "execution_count": 19,
   "metadata": {},
   "outputs": [
    {
     "name": "stdout",
     "output_type": "stream",
     "text": [
      "0.9617486338797814\n"
     ]
    },
    {
     "data": {
      "text/plain": [
       "[<matplotlib.lines.Line2D at 0x7f9a382fb610>]"
      ]
     },
     "execution_count": 19,
     "metadata": {},
     "output_type": "execute_result"
    },
    {
     "data": {
      "image/png": "[encoded data removed]",
      "text/plain": [
       "<Figure size 640x480 with 1 Axes>"
      ]
     },
     "metadata": {},
     "output_type": "display_data"
    }
   ],
   "source": [
    "from sklearn.neighbors import KNeighborsClassifier\n",
    "from sklearn.model_selection import train_test_split\n",
    "from sklearn.metrics import accuracy_score\n",
    "\n",
    "scs = []\n",
    "dst = []\n",
    "\n",
    "for d in np.linspace(1,11,10, dtype=int):\n",
    "    knn_mean = KNeighborsClassifier(n_neighbors = d)\n",
    "\n",
    "\n",
    "    x = list(data_embs_train[estist].values)\n",
    "    y = tf.keras.utils.to_categorical(data_embs_train['labels'].values)\n",
    "\n",
    "\n",
    "    knn_mean.fit(x,y)\n",
    "\n",
    "    y_pred = knn_mean.predict(list(data_embs_test[estist].values))\n",
    "\n",
    "    #print(\"Accuracy: \", accuracy_score(list(data_embs_test['labels'].values), y_pred)*100)\n",
    "    scs.append(accuracy_score(tf.keras.utils.to_categorical(data_embs_test['labels'].values)\n",
    ", y_pred))\n",
    "    dst.append(d)\n",
    "\n",
    "print(np.max(scs))\n",
    "plt.plot(dst,scs)    "
   ]
  },
  {
   "cell_type": "code",
   "execution_count": 20,
   "metadata": {},
   "outputs": [
    {
     "name": "stdout",
     "output_type": "stream",
     "text": [
      "              precision    recall  f1-score   support\n",
      "\n",
      "         MF1       0.96      0.96      0.96        75\n",
      "         MF2       0.91      0.95      0.93        56\n",
      "         MF3       1.00      0.96      0.98        52\n",
      "\n",
      "   micro avg       0.96      0.96      0.96       183\n",
      "   macro avg       0.96      0.96      0.96       183\n",
      "weighted avg       0.96      0.96      0.96       183\n",
      " samples avg       0.96      0.96      0.96       183\n",
      "\n"
     ]
    }
   ],
   "source": [
    "x_KNN_train = list(data_embs_train[estist].values)\n",
    "y_KNN_train = tf.keras.utils.to_categorical(list(data_embs_train['labels'].values))\n",
    "est_KNN_mean = KNeighborsClassifier(n_neighbors = dpst[np.argmax(acs)])\n",
    "est_KNN_mean.fit(x_KNN_train ,y_KNN_train)\n",
    "\n",
    "x = list(data_embs_test[estist].values)\n",
    "y = tf.keras.utils.to_categorical(list(data_embs_test['labels'].values))\n",
    "y_predicted = est_KNN_mean.predict(x)\n",
    "\n",
    "target_names = ['MF1', 'MF2', 'MF3']\n",
    "print(classification_report(y, y_predicted,target_names=target_names))"
   ]
  }
 ],
 "metadata": {
  "kernelspec": {
   "display_name": "Python 3 (ipykernel)",
   "language": "python",
   "name": "python3"
  },
  "language_info": {
   "codemirror_mode": {
    "name": "ipython",
    "version": 3
   },
   "file_extension": ".py",
   "mimetype": "text/x-python",
   "name": "python",
   "nbconvert_exporter": "python",
   "pygments_lexer": "ipython3",
   "version": "3.11.0rc1"
  }
 },
 "nbformat": 4,
 "nbformat_minor": 2
}
