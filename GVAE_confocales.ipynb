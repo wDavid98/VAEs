{
 "cells": [
  {
   "cell_type": "code",
   "execution_count": 1,
   "metadata": {},
   "outputs": [
    {
     "name": "stderr",
     "output_type": "stream",
     "text": [
      "2023-08-02 17:58:58.721336: I tensorflow/core/util/port.cc:110] oneDNN custom operations are on. You may see slightly different numerical results due to floating-point round-off errors from different computation orders. To turn them off, set the environment variable `TF_ENABLE_ONEDNN_OPTS=0`.\n",
      "2023-08-02 17:58:58.772359: I tensorflow/core/platform/cpu_feature_guard.cc:182] This TensorFlow binary is optimized to use available CPU instructions in performance-critical operations.\n",
      "To enable the following instructions: AVX2 AVX512F AVX512_VNNI FMA, in other operations, rebuild TensorFlow with the appropriate compiler flags.\n",
      "/usr/local/lib/python3.8/dist-packages/umap/distances.py:1063: NumbaDeprecationWarning: The 'nopython' keyword argument was not supplied to the 'numba.jit' decorator. The implicit default value for this argument is currently False, but it will be changed to True in Numba 0.59.0. See https://numba.readthedocs.io/en/stable/reference/deprecation.html#deprecation-of-object-mode-fall-back-behaviour-when-using-jit for details.\n",
      "  @numba.jit()\n",
      "/usr/local/lib/python3.8/dist-packages/umap/distances.py:1071: NumbaDeprecationWarning: The 'nopython' keyword argument was not supplied to the 'numba.jit' decorator. The implicit default value for this argument is currently False, but it will be changed to True in Numba 0.59.0. See https://numba.readthedocs.io/en/stable/reference/deprecation.html#deprecation-of-object-mode-fall-back-behaviour-when-using-jit for details.\n",
      "  @numba.jit()\n",
      "/usr/local/lib/python3.8/dist-packages/umap/distances.py:1086: NumbaDeprecationWarning: The 'nopython' keyword argument was not supplied to the 'numba.jit' decorator. The implicit default value for this argument is currently False, but it will be changed to True in Numba 0.59.0. See https://numba.readthedocs.io/en/stable/reference/deprecation.html#deprecation-of-object-mode-fall-back-behaviour-when-using-jit for details.\n",
      "  @numba.jit()\n",
      "/usr/local/lib/python3.8/dist-packages/umap/umap_.py:660: NumbaDeprecationWarning: The 'nopython' keyword argument was not supplied to the 'numba.jit' decorator. The implicit default value for this argument is currently False, but it will be changed to True in Numba 0.59.0. See https://numba.readthedocs.io/en/stable/reference/deprecation.html#deprecation-of-object-mode-fall-back-behaviour-when-using-jit for details.\n",
      "  @numba.jit()\n"
     ]
    }
   ],
   "source": [
    "### Notebook creado para extraer los embebidos de las imágenes confocales\n",
    "\n",
    "## Librerías: \n",
    "import numpy as np\n",
    "import seaborn as sns\n",
    "import sys\n",
    "import cv2 as cv2\n",
    "import glob\n",
    "from PIL import Image\n",
    "import tensorflow as tf\n",
    "import sys\n",
    "import matplotlib.pyplot as plt\n",
    "import tensorflow as tf\n",
    "import pandas as pd\n",
    "import gc\n",
    "import keras\n",
    "from sklearn.model_selection import train_test_split\n",
    "import os\n",
    "\n",
    "import tensorflow_probability as tfp\n",
    "tfd = tfp.distributions\n",
    "tfpl = tfp.layers\n",
    "tfk = tf.keras\n",
    "tfkl = tf.keras.layers\n",
    "tfd = tfp.distributions\n",
    "\n",
    "from sklearn.decomposition import PCA\n",
    "from sklearn.discriminant_analysis import LinearDiscriminantAnalysis as LDA\n",
    "import umap\n",
    "from sklearn.preprocessing import StandardScaler\n",
    "\n",
    "import numpy as np\n",
    "import tensorflow as tf\n",
    "from tensorflow import keras\n",
    "from keras import layers\n",
    "import glob\n",
    "\n",
    "import random "
   ]
  },
  {
   "cell_type": "code",
   "execution_count": 2,
   "metadata": {},
   "outputs": [],
   "source": [
    "### Cargar imágenes tal cual como se cargaron para el entrenamiento:\n",
    "## Uso de GPU\n",
    "import os\n",
    "\n",
    "os.environ[\"CUDA_DEVICE_ORDER\"] = \"PCI_BUS_ID\"\n",
    "os.environ[\"CUDA_VISIBLE_DEVICES\"] = \"4\"\n",
    "gpus = tf.config.experimental.list_physical_devices('GPU')\n",
    "tf.config.experimental.set_memory_growth(gpus[0], True)"
   ]
  },
  {
   "cell_type": "code",
   "execution_count": 3,
   "metadata": {},
   "outputs": [],
   "source": [
    "### Rutas\n",
    "classes = ['CuNi1','CuNi2','CuNi3']\n",
    "route_img = []\n",
    "labels = []\n",
    "cls = []\n",
    "\n",
    "\n",
    "for clss in classes:\n",
    "    cnt = 0\n",
    "    route = ('../../Datasets/Confocales_procesadas/recortadas1/'+clss+\"/*.jpg\")\n",
    "    path = glob.glob(route) \n",
    "    for img in path:\n",
    "        #print(img)\n",
    "        route_img.append(img)    \n",
    "        #labels.append(img)\n",
    "        cls.append(clss)\n",
    "        cnt = cnt +1;\n",
    "\n",
    "\n",
    "images_df = pd.DataFrame()\n",
    "images_df['routes'] = route_img\n",
    "images_df['label'] = cls\n",
    "#images_df['classes'] = cls\n",
    "\n",
    "## Conversión de etiquetas\n",
    "char_to_num = {}\n",
    "num_to_char = {}\n",
    "\n",
    "i = 0\n",
    "for name in classes:\n",
    "  num_to_char[i] = name\n",
    "  char_to_num[name] = str(i)\n",
    "  i += 1\n",
    "\n",
    "images_df['label'].replace(char_to_num,inplace=True)"
   ]
  },
  {
   "cell_type": "code",
   "execution_count": 4,
   "metadata": {},
   "outputs": [],
   "source": [
    "## Establecer el porcentaje de separación\n",
    "thold = int(np.ceil(0.8 * len(images_df)/3))\n",
    "\n",
    "## Separar por clases para entrenamiento\n",
    "train_cu1 = images_df[images_df.label == '0'][0:thold]\n",
    "train_cu2 = images_df[images_df.label == '1'][0:thold]\n",
    "train_cu3 = images_df[images_df.label == '2'][0:thold]\n",
    "\n",
    "## tomar las demás imágenes para test\n",
    "test_cu1 = images_df[images_df.label == '0'][thold:]\n",
    "test_cu2 = images_df[images_df.label == '1'][thold:]\n",
    "test_cu3 = images_df[images_df.label == '2'][thold:]\n",
    "\n",
    "\n",
    "## Constuir un solo dataset de training\n",
    "train_df =  pd.concat([pd.concat([train_cu1,train_cu2]),train_cu3])\n",
    "\n",
    "## Construir un solo dataset de test\n",
    "test_df = pd.concat([pd.concat([test_cu1,test_cu2]),test_cu3])"
   ]
  },
  {
   "cell_type": "code",
   "execution_count": 5,
   "metadata": {},
   "outputs": [],
   "source": [
    "## Crear objetos transformadores\n",
    "## Para entrenamiento\n",
    "img_generator_training = tf.keras.preprocessing.image.ImageDataGenerator(  \n",
    "    rescale=1./255,      \n",
    "    horizontal_flip=True,\n",
    "    vertical_flip=True,\n",
    "    validation_split=0.15\n",
    ")\n",
    "\n",
    "# Para testing\n",
    "img_generator_test = tf.keras.preprocessing.image.ImageDataGenerator(  \n",
    "    rescale=1./255,      \n",
    "    horizontal_flip=True,\n",
    "    vertical_flip=True    \n",
    ")"
   ]
  },
  {
   "cell_type": "code",
   "execution_count": 6,
   "metadata": {},
   "outputs": [
    {
     "name": "stdout",
     "output_type": "stream",
     "text": [
      "Found 408 validated image filenames belonging to 3 classes.\n",
      "Found 72 validated image filenames belonging to 3 classes.\n",
      "Found 120 validated image filenames belonging to 3 classes.\n"
     ]
    }
   ],
   "source": [
    "## Crear objeto generador de imágenes a partir del objeto transformator\n",
    "## Pra entrenamiento\n",
    "train_generator= img_generator_training.flow_from_dataframe(\n",
    "    dataframe=train_df,\n",
    "    #directory=\"./train/\",\n",
    "    x_col=\"routes\",\n",
    "    y_col=\"label\",\n",
    "    labels = ['CuNi1','CuNi2','CuNi3'],\n",
    "    subset=\"training\",\n",
    "    batch_size=64,\n",
    "    seed=42,\n",
    "    shuffle=True,\n",
    "    class_mode=\"sparse\" ,\n",
    "    validation_split=0.2,\n",
    "    color_mode =\"grayscale\",\n",
    "    target_size=(128,128))\n",
    "\n",
    "## Para validación\n",
    "valid_generator= img_generator_training.flow_from_dataframe(\n",
    "    dataframe=train_df,\n",
    "    #directory=\"./train/\",\n",
    "    x_col=\"routes\",\n",
    "    y_col=\"label\",\n",
    "    labels = ['CuNi1','CuNi2','CuNi3'],\n",
    "    subset=\"validation\",\n",
    "    batch_size=64,\n",
    "    seed=42,\n",
    "    shuffle=True,\n",
    "    class_mode=\"sparse\" ,\n",
    "    color_mode =\"grayscale\",\n",
    "    target_size=(128,128))\n",
    "\n",
    "## Para testeo\n",
    "test_generator= img_generator_test.flow_from_dataframe(\n",
    "    dataframe=test_df,\n",
    "    #directory=\"./train/\",\n",
    "    x_col=\"routes\",\n",
    "    y_col=\"label\",\n",
    "    labels = ['CuNi1','CuNi2','CuNi3'],\n",
    "    subset=\"training\",\n",
    "    batch_size=64,\n",
    "    seed=42,\n",
    "    shuffle=True,\n",
    "    class_mode=\"sparse\" ,\n",
    "    color_mode =\"grayscale\",\n",
    "    target_size=(128,128))"
   ]
  },
  {
   "cell_type": "code",
   "execution_count": 7,
   "metadata": {},
   "outputs": [
    {
     "name": "stdout",
     "output_type": "stream",
     "text": [
      "(2920, 128, 128, 1) (2920,)\n",
      "(600, 128, 128, 1) (600,)\n"
     ]
    }
   ],
   "source": [
    "x_train_expanded = []\n",
    "y_train_expanded = []\n",
    "\n",
    "x_test = []\n",
    "y_test = []\n",
    "\n",
    "batches = 50\n",
    "cnt = 0;\n",
    "\n",
    "for i in range(batches):\n",
    "    \n",
    "    x,y = train_generator.next()\n",
    "\n",
    "    x_train_expanded.extend(x)\n",
    "    y_train_expanded.extend(y)\n",
    "\n",
    "for j in range(int(np.ceil(batches*0.2))):\n",
    "    \n",
    "    x,y = test_generator.next()\n",
    "\n",
    "    x_test.extend(x)\n",
    "    y_test.extend(y)\n",
    "\n",
    "print(np.shape(x_train_expanded),np.shape(y_train_expanded))\n",
    "print(np.shape(x_test), np.shape(y_test))"
   ]
  },
  {
   "cell_type": "code",
   "execution_count": 8,
   "metadata": {},
   "outputs": [
    {
     "name": "stdout",
     "output_type": "stream",
     "text": [
      "(128, 128, 1)\n",
      "0.0 1.0\n"
     ]
    },
    {
     "data": {
      "image/png": "[encoded data removed]",
      "text/plain": [
       "<Figure size 640x480 with 1 Axes>"
      ]
     },
     "metadata": {},
     "output_type": "display_data"
    }
   ],
   "source": [
    "plt.imshow(x_train_expanded[0],cmap='gray')\n",
    "print(np.shape(x_train_expanded[0]))\n",
    "print(np.min(x_train_expanded[0]),np.max(x_train_expanded[0]))\n",
    "plt.show()"
   ]
  },
  {
   "cell_type": "code",
   "execution_count": 9,
   "metadata": {},
   "outputs": [
    {
     "name": "stdout",
     "output_type": "stream",
     "text": [
      "x_train shape: (2920, 128, 128, 1)\n",
      "Number of images in x_train 2920 y_train: (2920,)\n",
      "Number of images in x_test (600, 128, 128, 1) y_test:  (600,)\n"
     ]
    }
   ],
   "source": [
    "x_train_expanded = np.array(x_train_expanded)\n",
    "x_test = np.array(x_test)\n",
    "\n",
    "x_train_expanded = x_train_expanded.astype('float32')\n",
    "x_test= x_test.astype('float32')\n",
    " \n",
    "#y_test = tf.keras.utils.to_categorical(y_test)\n",
    "#y_train_expanded = tf.keras.utils.to_categorical(y_train_expanded) \n",
    "\n",
    "#x_train_expanded /= 255\n",
    "#x_test /= 255\n",
    "\n",
    "print('x_train shape:', x_train_expanded.shape)\n",
    "print('Number of images in x_train', x_train_expanded.shape[0], \"y_train:\", np.shape(y_train_expanded))\n",
    "print('Number of images in x_test', x_test.shape, \"y_test: \", np.shape(y_test))"
   ]
  },
  {
   "cell_type": "code",
   "execution_count": 10,
   "metadata": {},
   "outputs": [],
   "source": [
    "### Cargar modelo\n",
    "class Sampling(layers.Layer):\n",
    "    \"\"\"Uses (z_mean, z_log_var) to sample z, the vector encoding a digit.\"\"\"\n",
    "\n",
    "    def call(self, inputs):\n",
    "        z_mean, z_log_var = inputs\n",
    "        batch = tf.shape(z_mean)[0]\n",
    "        dim = tf.shape(z_mean)[1]\n",
    "        epsilon = tf.keras.backend.random_normal(shape=(batch, dim))\n",
    "        return z_mean + tf.exp(0.5 * z_log_var) * epsilon"
   ]
  },
  {
   "cell_type": "code",
   "execution_count": 12,
   "metadata": {},
   "outputs": [
    {
     "name": "stderr",
     "output_type": "stream",
     "text": [
      "2023-07-31 21:47:53.563134: I tensorflow/core/common_runtime/gpu/gpu_device.cc:1635] Created device /job:localhost/replica:0/task:0/device:GPU:0 with 22784 MB memory:  -> device: 0, name: NVIDIA TITAN RTX, pci bus id: 0000:3f:00.0, compute capability: 7.5\n"
     ]
    },
    {
     "name": "stdout",
     "output_type": "stream",
     "text": [
      "WARNING:tensorflow:No training configuration found in the save file, so the model was *not* compiled. Compile it manually.\n",
      "WARNING:tensorflow:No training configuration found in the save file, so the model was *not* compiled. Compile it manually.\n"
     ]
    }
   ],
   "source": [
    "encoder = keras.models.load_model('models/VAE_1_encoder_128.h5', custom_objects={'Sampling':Sampling})\n",
    "decoder = keras.models.load_model('models/VAE_1_decoder_128.h5', custom_objects={'Sampling':Sampling})"
   ]
  },
  {
   "cell_type": "code",
   "execution_count": 13,
   "metadata": {},
   "outputs": [
    {
     "name": "stderr",
     "output_type": "stream",
     "text": [
      "2023-07-31 21:48:01.003299: I tensorflow/compiler/xla/stream_executor/cuda/cuda_dnn.cc:424] Loaded cuDNN version 8600\n"
     ]
    },
    {
     "name": "stdout",
     "output_type": "stream",
     "text": [
      "92/92 [==============================] - 5s 22ms/step\n",
      "Shape_embs:  (3, 2920, 128)\n"
     ]
    }
   ],
   "source": [
    "### Embebidos training\n",
    "encoder_embds  = encoder.predict(x_train_expanded)\n",
    "print('Shape_embs: ',np.shape(encoder_embds))"
   ]
  },
  {
   "cell_type": "code",
   "execution_count": 14,
   "metadata": {},
   "outputs": [
    {
     "data": {
      "text/plain": [
       "(2920, 1)"
      ]
     },
     "execution_count": 14,
     "metadata": {},
     "output_type": "execute_result"
    }
   ],
   "source": [
    "labels_train = pd.DataFrame(y_train_expanded).replace({0: \"MF1\", 1: \"MF2\",2: \"MF3\"})\n",
    "labels_train.shape"
   ]
  },
  {
   "cell_type": "code",
   "execution_count": 22,
   "metadata": {},
   "outputs": [],
   "source": [
    "## Dataframe\n",
    "embs_training = pd.DataFrame()\n",
    "embs_training['embedding_mean'] =list(encoder_embds[0])\n",
    "embs_training['embedding_logvar'] = list(encoder_embds[1])\n",
    "embs_training['embedding_z'] = list(encoder_embds[2])"
   ]
  },
  {
   "cell_type": "code",
   "execution_count": 56,
   "metadata": {},
   "outputs": [
    {
     "data": {
      "text/plain": [
       "(2920,)"
      ]
     },
     "execution_count": 56,
     "metadata": {},
     "output_type": "execute_result"
    }
   ],
   "source": [
    "### Diferencias con kullback-leibler\n",
    "errors_training = []\n",
    "for i in range(len(embs_training)):\n",
    "    z_log_var = embs_training.iloc[i].embedding_logvar\n",
    "    z_mean = embs_training.iloc[i].embedding_mean\t\n",
    "    error = 0.5 * (1 + z_log_var - tf.square(z_mean) - tf.exp(z_log_var))\n",
    "    errors_training.append(np.mean(error.numpy()))\n",
    "    \n",
    "np.shape(errors_training)"
   ]
  },
  {
   "cell_type": "code",
   "execution_count": 57,
   "metadata": {},
   "outputs": [
    {
     "data": {
      "text/html": [
       "<div>\n",
       "<style scoped>\n",
       "    .dataframe tbody tr th:only-of-type {\n",
       "        vertical-align: middle;\n",
       "    }\n",
       "\n",
       "    .dataframe tbody tr th {\n",
       "        vertical-align: top;\n",
       "    }\n",
       "\n",
       "    .dataframe thead th {\n",
       "        text-align: right;\n",
       "    }\n",
       "</style>\n",
       "<table border=\"1\" class=\"dataframe\">\n",
       "  <thead>\n",
       "    <tr style=\"text-align: right;\">\n",
       "      <th></th>\n",
       "      <th>embedding_mean</th>\n",
       "      <th>embedding_logvar</th>\n",
       "      <th>embedding_z</th>\n",
       "      <th>KL_loss</th>\n",
       "      <th>label</th>\n",
       "    </tr>\n",
       "  </thead>\n",
       "  <tbody>\n",
       "    <tr>\n",
       "      <th>0</th>\n",
       "      <td>[-0.48370373, -0.44313332, -0.43165365, -1.523...</td>\n",
       "      <td>[-2.147362, -2.4574099, -2.2709641, -2.3747203...</td>\n",
       "      <td>[-0.60850203, -0.7727723, -0.41284814, -1.8507...</td>\n",
       "      <td>-1.063745</td>\n",
       "      <td>MF1</td>\n",
       "    </tr>\n",
       "    <tr>\n",
       "      <th>1</th>\n",
       "      <td>[-1.0387968, 0.27876616, -0.8933149, 0.5040709...</td>\n",
       "      <td>[-2.4984908, -2.6425052, -2.3935938, -2.318457...</td>\n",
       "      <td>[-1.2391117, 0.5804928, -1.2606264, 0.8411063,...</td>\n",
       "      <td>-1.274560</td>\n",
       "      <td>MF2</td>\n",
       "    </tr>\n",
       "    <tr>\n",
       "      <th>2</th>\n",
       "      <td>[-1.4117372, 1.7300321, -1.6898838, -0.7751232...</td>\n",
       "      <td>[-2.6302898, -2.8231316, -2.6396167, -2.592873...</td>\n",
       "      <td>[-1.3637288, 1.3492775, -1.7783668, -1.035386,...</td>\n",
       "      <td>-1.148473</td>\n",
       "      <td>MF3</td>\n",
       "    </tr>\n",
       "    <tr>\n",
       "      <th>3</th>\n",
       "      <td>[-0.33066994, -0.544078, 0.233757, 1.7828923, ...</td>\n",
       "      <td>[-2.1869311, -2.453971, -2.330516, -2.2520123,...</td>\n",
       "      <td>[-0.7035003, -0.63701534, 0.3444556, 2.0992525...</td>\n",
       "      <td>-1.013824</td>\n",
       "      <td>MF1</td>\n",
       "    </tr>\n",
       "    <tr>\n",
       "      <th>4</th>\n",
       "      <td>[0.05739648, 1.9747838, -0.7251491, -0.3393491...</td>\n",
       "      <td>[-2.2424078, -2.5773213, -2.3165581, -2.360484...</td>\n",
       "      <td>[0.3282761, 1.4189906, -0.86411697, -0.2225353...</td>\n",
       "      <td>-1.064858</td>\n",
       "      <td>MF1</td>\n",
       "    </tr>\n",
       "    <tr>\n",
       "      <th>...</th>\n",
       "      <td>...</td>\n",
       "      <td>...</td>\n",
       "      <td>...</td>\n",
       "      <td>...</td>\n",
       "      <td>...</td>\n",
       "    </tr>\n",
       "    <tr>\n",
       "      <th>2915</th>\n",
       "      <td>[0.7699096, 1.414756, 1.0586877, -1.0450531, -...</td>\n",
       "      <td>[-2.1759143, -2.5601327, -2.293031, -2.19999, ...</td>\n",
       "      <td>[0.9632327, 1.6844323, 1.4079297, -1.0643599, ...</td>\n",
       "      <td>-1.012856</td>\n",
       "      <td>MF1</td>\n",
       "    </tr>\n",
       "    <tr>\n",
       "      <th>2916</th>\n",
       "      <td>[-0.8249702, -0.25168008, 1.934218, -0.204828,...</td>\n",
       "      <td>[-2.3727813, -2.7867692, -2.718464, -2.3625693...</td>\n",
       "      <td>[-0.68242043, -0.23369338, 1.6419603, -0.02434...</td>\n",
       "      <td>-1.195453</td>\n",
       "      <td>MF2</td>\n",
       "    </tr>\n",
       "    <tr>\n",
       "      <th>2917</th>\n",
       "      <td>[-1.6391324, -0.8803261, 0.5542589, 1.5081016,...</td>\n",
       "      <td>[-2.5090644, -2.9260182, -2.6827965, -2.818679...</td>\n",
       "      <td>[-1.3458425, -0.9643999, 0.6755364, 1.2738875,...</td>\n",
       "      <td>-1.353036</td>\n",
       "      <td>MF3</td>\n",
       "    </tr>\n",
       "    <tr>\n",
       "      <th>2918</th>\n",
       "      <td>[1.9479651, 1.9160988, 0.23734777, -0.985599, ...</td>\n",
       "      <td>[-2.243434, -2.320411, -2.0918825, -1.8949981,...</td>\n",
       "      <td>[1.7643651, 2.0540345, 0.26090646, -0.7587356,...</td>\n",
       "      <td>-1.098137</td>\n",
       "      <td>MF1</td>\n",
       "    </tr>\n",
       "    <tr>\n",
       "      <th>2919</th>\n",
       "      <td>[1.3645647, 0.6883067, -1.4239963, -0.5921722,...</td>\n",
       "      <td>[-2.3198054, -2.3257866, -2.284286, -2.468792,...</td>\n",
       "      <td>[1.2694118, 1.0104603, -1.4340769, -0.6282467,...</td>\n",
       "      <td>-1.278121</td>\n",
       "      <td>MF1</td>\n",
       "    </tr>\n",
       "  </tbody>\n",
       "</table>\n",
       "<p>2920 rows × 5 columns</p>\n",
       "</div>"
      ],
      "text/plain": [
       "                                         embedding_mean   \n",
       "0     [-0.48370373, -0.44313332, -0.43165365, -1.523...  \\\n",
       "1     [-1.0387968, 0.27876616, -0.8933149, 0.5040709...   \n",
       "2     [-1.4117372, 1.7300321, -1.6898838, -0.7751232...   \n",
       "3     [-0.33066994, -0.544078, 0.233757, 1.7828923, ...   \n",
       "4     [0.05739648, 1.9747838, -0.7251491, -0.3393491...   \n",
       "...                                                 ...   \n",
       "2915  [0.7699096, 1.414756, 1.0586877, -1.0450531, -...   \n",
       "2916  [-0.8249702, -0.25168008, 1.934218, -0.204828,...   \n",
       "2917  [-1.6391324, -0.8803261, 0.5542589, 1.5081016,...   \n",
       "2918  [1.9479651, 1.9160988, 0.23734777, -0.985599, ...   \n",
       "2919  [1.3645647, 0.6883067, -1.4239963, -0.5921722,...   \n",
       "\n",
       "                                       embedding_logvar   \n",
       "0     [-2.147362, -2.4574099, -2.2709641, -2.3747203...  \\\n",
       "1     [-2.4984908, -2.6425052, -2.3935938, -2.318457...   \n",
       "2     [-2.6302898, -2.8231316, -2.6396167, -2.592873...   \n",
       "3     [-2.1869311, -2.453971, -2.330516, -2.2520123,...   \n",
       "4     [-2.2424078, -2.5773213, -2.3165581, -2.360484...   \n",
       "...                                                 ...   \n",
       "2915  [-2.1759143, -2.5601327, -2.293031, -2.19999, ...   \n",
       "2916  [-2.3727813, -2.7867692, -2.718464, -2.3625693...   \n",
       "2917  [-2.5090644, -2.9260182, -2.6827965, -2.818679...   \n",
       "2918  [-2.243434, -2.320411, -2.0918825, -1.8949981,...   \n",
       "2919  [-2.3198054, -2.3257866, -2.284286, -2.468792,...   \n",
       "\n",
       "                                            embedding_z   KL_loss label  \n",
       "0     [-0.60850203, -0.7727723, -0.41284814, -1.8507... -1.063745   MF1  \n",
       "1     [-1.2391117, 0.5804928, -1.2606264, 0.8411063,... -1.274560   MF2  \n",
       "2     [-1.3637288, 1.3492775, -1.7783668, -1.035386,... -1.148473   MF3  \n",
       "3     [-0.7035003, -0.63701534, 0.3444556, 2.0992525... -1.013824   MF1  \n",
       "4     [0.3282761, 1.4189906, -0.86411697, -0.2225353... -1.064858   MF1  \n",
       "...                                                 ...       ...   ...  \n",
       "2915  [0.9632327, 1.6844323, 1.4079297, -1.0643599, ... -1.012856   MF1  \n",
       "2916  [-0.68242043, -0.23369338, 1.6419603, -0.02434... -1.195453   MF2  \n",
       "2917  [-1.3458425, -0.9643999, 0.6755364, 1.2738875,... -1.353036   MF3  \n",
       "2918  [1.7643651, 2.0540345, 0.26090646, -0.7587356,... -1.098137   MF1  \n",
       "2919  [1.2694118, 1.0104603, -1.4340769, -0.6282467,... -1.278121   MF1  \n",
       "\n",
       "[2920 rows x 5 columns]"
      ]
     },
     "execution_count": 57,
     "metadata": {},
     "output_type": "execute_result"
    }
   ],
   "source": [
    "embs_training['KL_loss'] = errors_training\n",
    "embs_training['label'] = labels_train\n",
    "embs_training"
   ]
  },
  {
   "cell_type": "code",
   "execution_count": 1,
   "metadata": {},
   "outputs": [
    {
     "ename": "NameError",
     "evalue": "name 'embs_training' is not defined",
     "output_type": "error",
     "traceback": [
      "\u001b[0;31m---------------------------------------------------------------------------\u001b[0m",
      "\u001b[0;31mNameError\u001b[0m                                 Traceback (most recent call last)",
      "Cell \u001b[0;32mIn[1], line 1\u001b[0m\n\u001b[0;32m----> 1\u001b[0m embs_logvar_training \u001b[38;5;241m=\u001b[39m \u001b[43membs_training\u001b[49m\u001b[38;5;241m.\u001b[39membedding_logvar\u001b[38;5;241m.\u001b[39mvalues\u001b[38;5;241m.\u001b[39mtolist()\n\u001b[1;32m      2\u001b[0m embs_mean_trainig \u001b[38;5;241m=\u001b[39m embs_training\u001b[38;5;241m.\u001b[39membedding_mean\u001b[38;5;241m.\u001b[39mvalues\u001b[38;5;241m.\u001b[39mtolist()\n\u001b[1;32m      3\u001b[0m embs_z_trainig \u001b[38;5;241m=\u001b[39m embs_training\u001b[38;5;241m.\u001b[39membedding_z\u001b[38;5;241m.\u001b[39mvalues\u001b[38;5;241m.\u001b[39mtolist()\n",
      "\u001b[0;31mNameError\u001b[0m: name 'embs_training' is not defined"
     ]
    }
   ],
   "source": [
    "embs_logvar_training = embs_training.embedding_logvar.values.tolist()\n",
    "embs_mean_trainig = embs_training.embedding_mean.values.tolist()\n",
    "embs_z_trainig = embs_training.embedding_z.values.tolist()\n",
    "labels_training = embs_training.label.values.tolist()\n",
    "errors_training = embs_training.KL_loss.values.tolist()\n",
    "\n",
    "np.save('results/embebidos_confocales/embs_logvar_training',embs_logvar_training)\n",
    "np.save('results/embebidos_confocales/embs_mean_training',embs_mean_trainig)\n",
    "np.save('results/embebidos_confocales/embs_z_training',embs_z_trainig)\n",
    "np.save('results/embebidos_confocales/label_training',labels_training)\n",
    "np.save('results/embebidos_confocales/kl_loss_training',errors_training) "
   ]
  },
  {
   "cell_type": "code",
   "execution_count": 28,
   "metadata": {},
   "outputs": [
    {
     "name": "stdout",
     "output_type": "stream",
     "text": [
      "19/19 [==============================] - 1s 52ms/step\n",
      "Shape_embs:  (3, 600, 128)\n"
     ]
    }
   ],
   "source": [
    "### Embebidos test\n",
    "encoder_embds_Test  = encoder.predict(x_test)\n",
    "print('Shape_embs: ',np.shape(encoder_embds_Test))"
   ]
  },
  {
   "cell_type": "code",
   "execution_count": 29,
   "metadata": {},
   "outputs": [
    {
     "data": {
      "text/plain": [
       "(600, 1)"
      ]
     },
     "execution_count": 29,
     "metadata": {},
     "output_type": "execute_result"
    }
   ],
   "source": [
    "labels_test = pd.DataFrame(y_test).replace({0: \"MF1\", 1: \"MF2\",2: \"MF3\"})\n",
    "labels_test.shape"
   ]
  },
  {
   "cell_type": "code",
   "execution_count": 39,
   "metadata": {},
   "outputs": [],
   "source": [
    "embs_test = pd.DataFrame()\n",
    "embs_test['embedding_mean'] =list(encoder_embds_Test[0])\n",
    "embs_test['embedding_logvar'] = list(encoder_embds_Test[1])\n",
    "embs_test['embedding_z'] = list(encoder_embds_Test[2])\n"
   ]
  },
  {
   "cell_type": "code",
   "execution_count": 40,
   "metadata": {},
   "outputs": [
    {
     "data": {
      "text/plain": [
       "(600,)"
      ]
     },
     "execution_count": 40,
     "metadata": {},
     "output_type": "execute_result"
    }
   ],
   "source": [
    "### Diferencias con kullback-leibler\n",
    "errors_test = []\n",
    "for i in range(len(embs_test)):\n",
    "    z_log_var = embs_test.iloc[i].embedding_logvar\n",
    "    z_mean = embs_test.iloc[i].embedding_mean\t\n",
    "    error = 0.5 * (1 + z_log_var - tf.square(z_mean) - tf.exp(z_log_var))\n",
    "    errors_test.append(np.mean(error.numpy()))\n",
    "    \n",
    "np.shape(errors_test)"
   ]
  },
  {
   "cell_type": "code",
   "execution_count": 41,
   "metadata": {},
   "outputs": [
    {
     "data": {
      "text/html": [
       "<div>\n",
       "<style scoped>\n",
       "    .dataframe tbody tr th:only-of-type {\n",
       "        vertical-align: middle;\n",
       "    }\n",
       "\n",
       "    .dataframe tbody tr th {\n",
       "        vertical-align: top;\n",
       "    }\n",
       "\n",
       "    .dataframe thead th {\n",
       "        text-align: right;\n",
       "    }\n",
       "</style>\n",
       "<table border=\"1\" class=\"dataframe\">\n",
       "  <thead>\n",
       "    <tr style=\"text-align: right;\">\n",
       "      <th></th>\n",
       "      <th>embedding_mean</th>\n",
       "      <th>embedding_logvar</th>\n",
       "      <th>embedding_z</th>\n",
       "      <th>KL_loss</th>\n",
       "      <th>label</th>\n",
       "    </tr>\n",
       "  </thead>\n",
       "  <tbody>\n",
       "    <tr>\n",
       "      <th>0</th>\n",
       "      <td>[-0.47027984, -1.2011987, 0.6600608, 0.0612614...</td>\n",
       "      <td>[-2.2964659, -2.3215568, -2.4162624, -2.739361...</td>\n",
       "      <td>[-0.45845628, -1.2967086, 0.8752455, -0.200644...</td>\n",
       "      <td>-1.168125</td>\n",
       "      <td>MF2</td>\n",
       "    </tr>\n",
       "    <tr>\n",
       "      <th>1</th>\n",
       "      <td>[0.53369427, -0.79866993, 0.07052698, -2.00350...</td>\n",
       "      <td>[-1.9900565, -2.484649, -2.625101, -2.348678, ...</td>\n",
       "      <td>[0.33492613, -0.26651508, -0.02031041, -2.1346...</td>\n",
       "      <td>-1.264808</td>\n",
       "      <td>MF2</td>\n",
       "    </tr>\n",
       "    <tr>\n",
       "      <th>2</th>\n",
       "      <td>[1.6847003, -0.40530923, 0.3609812, -1.6609691...</td>\n",
       "      <td>[-2.5443945, -2.628574, -2.274442, -2.120427, ...</td>\n",
       "      <td>[1.6188793, -0.49287525, 1.0222472, -1.5212545...</td>\n",
       "      <td>-1.102895</td>\n",
       "      <td>MF1</td>\n",
       "    </tr>\n",
       "    <tr>\n",
       "      <th>3</th>\n",
       "      <td>[0.5489903, -0.61190915, -0.55269086, 1.426916...</td>\n",
       "      <td>[-2.511737, -2.6166553, -2.6042767, -2.7921243...</td>\n",
       "      <td>[0.69465625, -1.0468049, -1.0354724, 1.4163119...</td>\n",
       "      <td>-1.252769</td>\n",
       "      <td>MF2</td>\n",
       "    </tr>\n",
       "    <tr>\n",
       "      <th>4</th>\n",
       "      <td>[0.63258135, 0.5749223, 2.0368123, -1.399094, ...</td>\n",
       "      <td>[-2.0581698, -2.466055, -2.3306198, -2.1862702...</td>\n",
       "      <td>[0.57666844, 0.63172716, 2.6946352, -1.4687036...</td>\n",
       "      <td>-1.074732</td>\n",
       "      <td>MF1</td>\n",
       "    </tr>\n",
       "    <tr>\n",
       "      <th>...</th>\n",
       "      <td>...</td>\n",
       "      <td>...</td>\n",
       "      <td>...</td>\n",
       "      <td>...</td>\n",
       "      <td>...</td>\n",
       "    </tr>\n",
       "    <tr>\n",
       "      <th>595</th>\n",
       "      <td>[0.47022766, -0.26216882, 1.7868325, -1.188134...</td>\n",
       "      <td>[-2.0245352, -2.5509932, -2.6760468, -2.226676...</td>\n",
       "      <td>[0.9439905, -0.08291967, 1.7688588, -1.489282,...</td>\n",
       "      <td>-1.026593</td>\n",
       "      <td>MF1</td>\n",
       "    </tr>\n",
       "    <tr>\n",
       "      <th>596</th>\n",
       "      <td>[-1.755556, 0.9470208, -0.437136, -0.22237316,...</td>\n",
       "      <td>[-2.302046, -3.4066112, -2.9159424, -2.6143928...</td>\n",
       "      <td>[-1.8692524, 0.7097529, -0.010060996, -0.20807...</td>\n",
       "      <td>-1.258897</td>\n",
       "      <td>MF3</td>\n",
       "    </tr>\n",
       "    <tr>\n",
       "      <th>597</th>\n",
       "      <td>[0.24548075, 1.1279305, -0.8308541, -1.7329123...</td>\n",
       "      <td>[-2.4974065, -2.5967727, -2.2207544, -2.191209...</td>\n",
       "      <td>[0.55378, 0.9371973, -0.39149418, -1.3910182, ...</td>\n",
       "      <td>-1.253409</td>\n",
       "      <td>MF1</td>\n",
       "    </tr>\n",
       "    <tr>\n",
       "      <th>598</th>\n",
       "      <td>[0.44074133, -0.16885145, -0.0059923315, 0.088...</td>\n",
       "      <td>[-2.278202, -3.0245621, -2.7595057, -2.4750562...</td>\n",
       "      <td>[0.36635628, -0.20541817, 0.3964593, 0.1281011...</td>\n",
       "      <td>-1.326813</td>\n",
       "      <td>MF3</td>\n",
       "    </tr>\n",
       "    <tr>\n",
       "      <th>599</th>\n",
       "      <td>[-0.96983784, -0.6604902, -0.39486116, 1.63862...</td>\n",
       "      <td>[-2.3312557, -2.8104517, -2.5026705, -2.51614,...</td>\n",
       "      <td>[-1.0307541, -0.410743, -0.17679437, 1.1646512...</td>\n",
       "      <td>-1.307443</td>\n",
       "      <td>MF2</td>\n",
       "    </tr>\n",
       "  </tbody>\n",
       "</table>\n",
       "<p>600 rows × 5 columns</p>\n",
       "</div>"
      ],
      "text/plain": [
       "                                        embedding_mean   \n",
       "0    [-0.47027984, -1.2011987, 0.6600608, 0.0612614...  \\\n",
       "1    [0.53369427, -0.79866993, 0.07052698, -2.00350...   \n",
       "2    [1.6847003, -0.40530923, 0.3609812, -1.6609691...   \n",
       "3    [0.5489903, -0.61190915, -0.55269086, 1.426916...   \n",
       "4    [0.63258135, 0.5749223, 2.0368123, -1.399094, ...   \n",
       "..                                                 ...   \n",
       "595  [0.47022766, -0.26216882, 1.7868325, -1.188134...   \n",
       "596  [-1.755556, 0.9470208, -0.437136, -0.22237316,...   \n",
       "597  [0.24548075, 1.1279305, -0.8308541, -1.7329123...   \n",
       "598  [0.44074133, -0.16885145, -0.0059923315, 0.088...   \n",
       "599  [-0.96983784, -0.6604902, -0.39486116, 1.63862...   \n",
       "\n",
       "                                      embedding_logvar   \n",
       "0    [-2.2964659, -2.3215568, -2.4162624, -2.739361...  \\\n",
       "1    [-1.9900565, -2.484649, -2.625101, -2.348678, ...   \n",
       "2    [-2.5443945, -2.628574, -2.274442, -2.120427, ...   \n",
       "3    [-2.511737, -2.6166553, -2.6042767, -2.7921243...   \n",
       "4    [-2.0581698, -2.466055, -2.3306198, -2.1862702...   \n",
       "..                                                 ...   \n",
       "595  [-2.0245352, -2.5509932, -2.6760468, -2.226676...   \n",
       "596  [-2.302046, -3.4066112, -2.9159424, -2.6143928...   \n",
       "597  [-2.4974065, -2.5967727, -2.2207544, -2.191209...   \n",
       "598  [-2.278202, -3.0245621, -2.7595057, -2.4750562...   \n",
       "599  [-2.3312557, -2.8104517, -2.5026705, -2.51614,...   \n",
       "\n",
       "                                           embedding_z   KL_loss label  \n",
       "0    [-0.45845628, -1.2967086, 0.8752455, -0.200644... -1.168125   MF2  \n",
       "1    [0.33492613, -0.26651508, -0.02031041, -2.1346... -1.264808   MF2  \n",
       "2    [1.6188793, -0.49287525, 1.0222472, -1.5212545... -1.102895   MF1  \n",
       "3    [0.69465625, -1.0468049, -1.0354724, 1.4163119... -1.252769   MF2  \n",
       "4    [0.57666844, 0.63172716, 2.6946352, -1.4687036... -1.074732   MF1  \n",
       "..                                                 ...       ...   ...  \n",
       "595  [0.9439905, -0.08291967, 1.7688588, -1.489282,... -1.026593   MF1  \n",
       "596  [-1.8692524, 0.7097529, -0.010060996, -0.20807... -1.258897   MF3  \n",
       "597  [0.55378, 0.9371973, -0.39149418, -1.3910182, ... -1.253409   MF1  \n",
       "598  [0.36635628, -0.20541817, 0.3964593, 0.1281011... -1.326813   MF3  \n",
       "599  [-1.0307541, -0.410743, -0.17679437, 1.1646512... -1.307443   MF2  \n",
       "\n",
       "[600 rows x 5 columns]"
      ]
     },
     "execution_count": 41,
     "metadata": {},
     "output_type": "execute_result"
    }
   ],
   "source": [
    "embs_test['KL_loss'] = errors_test\n",
    "embs_test['label'] = labels_test\n",
    "\n",
    "embs_test"
   ]
  },
  {
   "cell_type": "code",
   "execution_count": 42,
   "metadata": {},
   "outputs": [],
   "source": [
    "embs_logvar_test = embs_test.embedding_logvar.values.tolist()\n",
    "embs_mean_trainig = embs_test.embedding_mean.values.tolist()\n",
    "embs_z_trainig = embs_test.embedding_z.values.tolist()\n",
    "labels_test = embs_test.label.values.tolist()\n",
    "errors_test = embs_test.KL_loss.values.tolist()\n",
    "\n",
    "np.save('results/embebidos_confocales/embs_logvar/embs_logvar_test',embs_logvar_test)\n",
    "np.save('results/embebidos_confocales/embs_mean/embs_mean_test',embs_mean_trainig)\n",
    "np.save('results/embebidos_confocales/embs_z/embs_z_test',embs_z_trainig)\n",
    "np.save('results/embebidos_confocales/label/label_test',labels_test)\n",
    "np.save('results/embebidos_confocales/kl_loss/kl_loss_test',errors_test) "
   ]
  },
  {
   "cell_type": "code",
   "execution_count": 36,
   "metadata": {},
   "outputs": [],
   "source": [
    "### exportar dataframes as .csv\n",
    "ruta_save = 'results/embebidos_confocales/'\n",
    "embs_test.to_csv(ruta_save+'embs_test.csv', index=False)\n",
    "embs_training.to_csv(ruta_save+'embs_training.csv', index=False)"
   ]
  },
  {
   "cell_type": "code",
   "execution_count": 53,
   "metadata": {},
   "outputs": [],
   "source": [
    "### guardar conjuntos de imágenes\n",
    "np.save('results/embebidos_confocales/img_test',x_test)\n",
    "np.save('results/embebidos_confocales/img_train_1',x_train_expanded[:1000])\n",
    "np.save('results/embebidos_confocales/img_train_2',x_train_expanded[1000:2000])\n",
    "np.save('results/embebidos_confocales/img_train_3',x_train_expanded[2000:])\n"
   ]
  }
 ],
 "metadata": {
  "kernelspec": {
   "display_name": "Python 3 (ipykernel)",
   "language": "python",
   "name": "python3"
  },
  "language_info": {
   "codemirror_mode": {
    "name": "ipython",
    "version": 3
   },
   "file_extension": ".py",
   "mimetype": "text/x-python",
   "name": "python",
   "nbconvert_exporter": "python",
   "pygments_lexer": "ipython3",
   "version": "3.8.10"
  }
 },
 "nbformat": 4,
 "nbformat_minor": 2
}
