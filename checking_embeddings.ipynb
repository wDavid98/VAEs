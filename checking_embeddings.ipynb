{
 "cells": [
  {
   "cell_type": "markdown",
   "id": "9d5f54ec",
   "metadata": {},
   "source": [
    "# Importing libraries"
   ]
  },
  {
   "cell_type": "code",
   "execution_count": 1,
   "id": "995dca00",
   "metadata": {},
   "outputs": [],
   "source": [
    "import numpy as np\n",
    "import pandas as pd\n",
    "from utils.metrics import *\n",
    "from scipy.stats import *\n",
    "from sklearn.preprocessing import MinMaxScaler"
   ]
  },
  {
   "cell_type": "markdown",
   "id": "dc61e872",
   "metadata": {},
   "source": [
    "# Loading csv and embeddings"
   ]
  },
  {
   "cell_type": "code",
   "execution_count": 2,
   "id": "1c375de5",
   "metadata": {},
   "outputs": [
    {
     "data": {
      "text/html": [
       "<div>\n",
       "<style scoped>\n",
       "    .dataframe tbody tr th:only-of-type {\n",
       "        vertical-align: middle;\n",
       "    }\n",
       "\n",
       "    .dataframe tbody tr th {\n",
       "        vertical-align: top;\n",
       "    }\n",
       "\n",
       "    .dataframe thead th {\n",
       "        text-align: right;\n",
       "    }\n",
       "</style>\n",
       "<table border=\"1\" class=\"dataframe\">\n",
       "  <thead>\n",
       "    <tr style=\"text-align: right;\">\n",
       "      <th></th>\n",
       "      <th>embedding_mean</th>\n",
       "      <th>embedding_logvar</th>\n",
       "      <th>embedding_z</th>\n",
       "      <th>KL_loss</th>\n",
       "      <th>label</th>\n",
       "    </tr>\n",
       "  </thead>\n",
       "  <tbody>\n",
       "    <tr>\n",
       "      <th>0</th>\n",
       "      <td>[-0.48370373 -0.44313332 -0.43165365 -1.523551...</td>\n",
       "      <td>[-2.147362  -2.4574099 -2.2709641 -2.3747203 -...</td>\n",
       "      <td>[-0.60850203 -0.7727723  -0.41284814 -1.850753...</td>\n",
       "      <td>-1.063745</td>\n",
       "      <td>MF1</td>\n",
       "    </tr>\n",
       "    <tr>\n",
       "      <th>1</th>\n",
       "      <td>[-1.03879678e+00  2.78766155e-01 -8.93314898e-...</td>\n",
       "      <td>[-2.4984908 -2.6425052 -2.3935938 -2.3184571 -...</td>\n",
       "      <td>[-1.2391117   0.5804928  -1.2606264   0.841106...</td>\n",
       "      <td>-1.274560</td>\n",
       "      <td>MF2</td>\n",
       "    </tr>\n",
       "    <tr>\n",
       "      <th>2</th>\n",
       "      <td>[-1.4117372   1.7300321  -1.6898838  -0.775123...</td>\n",
       "      <td>[-2.6302898 -2.8231316 -2.6396167 -2.592873  -...</td>\n",
       "      <td>[-1.3637288e+00  1.3492775e+00 -1.7783668e+00 ...</td>\n",
       "      <td>-1.148473</td>\n",
       "      <td>MF3</td>\n",
       "    </tr>\n",
       "    <tr>\n",
       "      <th>3</th>\n",
       "      <td>[-0.33066994 -0.544078    0.233757    1.782892...</td>\n",
       "      <td>[-2.1869311 -2.453971  -2.330516  -2.2520123 -...</td>\n",
       "      <td>[-0.7035003  -0.63701534  0.3444556   2.099252...</td>\n",
       "      <td>-1.013824</td>\n",
       "      <td>MF1</td>\n",
       "    </tr>\n",
       "    <tr>\n",
       "      <th>4</th>\n",
       "      <td>[ 0.05739648  1.9747838  -0.7251491  -0.339349...</td>\n",
       "      <td>[-2.2424078 -2.5773213 -2.3165581 -2.3604844 -...</td>\n",
       "      <td>[ 0.3282761   1.4189906  -0.86411697 -0.222535...</td>\n",
       "      <td>-1.064858</td>\n",
       "      <td>MF1</td>\n",
       "    </tr>\n",
       "    <tr>\n",
       "      <th>...</th>\n",
       "      <td>...</td>\n",
       "      <td>...</td>\n",
       "      <td>...</td>\n",
       "      <td>...</td>\n",
       "      <td>...</td>\n",
       "    </tr>\n",
       "    <tr>\n",
       "      <th>2915</th>\n",
       "      <td>[ 0.7699096   1.414756    1.0586877  -1.045053...</td>\n",
       "      <td>[-2.1759143 -2.5601327 -2.293031  -2.19999   -...</td>\n",
       "      <td>[ 0.9632327   1.6844323   1.4079297  -1.064359...</td>\n",
       "      <td>-1.012856</td>\n",
       "      <td>MF1</td>\n",
       "    </tr>\n",
       "    <tr>\n",
       "      <th>2916</th>\n",
       "      <td>[-0.8249702  -0.25168008  1.934218   -0.204828...</td>\n",
       "      <td>[-2.3727813 -2.7867692 -2.718464  -2.3625693 -...</td>\n",
       "      <td>[-0.68242043 -0.23369338  1.6419603  -0.024345...</td>\n",
       "      <td>-1.195453</td>\n",
       "      <td>MF2</td>\n",
       "    </tr>\n",
       "    <tr>\n",
       "      <th>2917</th>\n",
       "      <td>[-1.6391324  -0.8803261   0.5542589   1.508101...</td>\n",
       "      <td>[-2.5090644 -2.9260182 -2.6827965 -2.818679  -...</td>\n",
       "      <td>[-1.3458425  -0.9643999   0.6755364   1.273887...</td>\n",
       "      <td>-1.353036</td>\n",
       "      <td>MF3</td>\n",
       "    </tr>\n",
       "    <tr>\n",
       "      <th>2918</th>\n",
       "      <td>[ 1.9479651   1.9160988   0.23734777 -0.985599...</td>\n",
       "      <td>[-2.243434  -2.320411  -2.0918825 -1.8949981 -...</td>\n",
       "      <td>[ 1.7643651   2.0540345   0.26090646 -0.758735...</td>\n",
       "      <td>-1.098137</td>\n",
       "      <td>MF1</td>\n",
       "    </tr>\n",
       "    <tr>\n",
       "      <th>2919</th>\n",
       "      <td>[ 1.3645647   0.6883067  -1.4239963  -0.592172...</td>\n",
       "      <td>[-2.3198054 -2.3257866 -2.284286  -2.468792  -...</td>\n",
       "      <td>[ 1.2694118   1.0104603  -1.4340769  -0.628246...</td>\n",
       "      <td>-1.278120</td>\n",
       "      <td>MF1</td>\n",
       "    </tr>\n",
       "  </tbody>\n",
       "</table>\n",
       "<p>2920 rows × 5 columns</p>\n",
       "</div>"
      ],
      "text/plain": [
       "                                         embedding_mean  \\\n",
       "0     [-0.48370373 -0.44313332 -0.43165365 -1.523551...   \n",
       "1     [-1.03879678e+00  2.78766155e-01 -8.93314898e-...   \n",
       "2     [-1.4117372   1.7300321  -1.6898838  -0.775123...   \n",
       "3     [-0.33066994 -0.544078    0.233757    1.782892...   \n",
       "4     [ 0.05739648  1.9747838  -0.7251491  -0.339349...   \n",
       "...                                                 ...   \n",
       "2915  [ 0.7699096   1.414756    1.0586877  -1.045053...   \n",
       "2916  [-0.8249702  -0.25168008  1.934218   -0.204828...   \n",
       "2917  [-1.6391324  -0.8803261   0.5542589   1.508101...   \n",
       "2918  [ 1.9479651   1.9160988   0.23734777 -0.985599...   \n",
       "2919  [ 1.3645647   0.6883067  -1.4239963  -0.592172...   \n",
       "\n",
       "                                       embedding_logvar  \\\n",
       "0     [-2.147362  -2.4574099 -2.2709641 -2.3747203 -...   \n",
       "1     [-2.4984908 -2.6425052 -2.3935938 -2.3184571 -...   \n",
       "2     [-2.6302898 -2.8231316 -2.6396167 -2.592873  -...   \n",
       "3     [-2.1869311 -2.453971  -2.330516  -2.2520123 -...   \n",
       "4     [-2.2424078 -2.5773213 -2.3165581 -2.3604844 -...   \n",
       "...                                                 ...   \n",
       "2915  [-2.1759143 -2.5601327 -2.293031  -2.19999   -...   \n",
       "2916  [-2.3727813 -2.7867692 -2.718464  -2.3625693 -...   \n",
       "2917  [-2.5090644 -2.9260182 -2.6827965 -2.818679  -...   \n",
       "2918  [-2.243434  -2.320411  -2.0918825 -1.8949981 -...   \n",
       "2919  [-2.3198054 -2.3257866 -2.284286  -2.468792  -...   \n",
       "\n",
       "                                            embedding_z   KL_loss label  \n",
       "0     [-0.60850203 -0.7727723  -0.41284814 -1.850753... -1.063745   MF1  \n",
       "1     [-1.2391117   0.5804928  -1.2606264   0.841106... -1.274560   MF2  \n",
       "2     [-1.3637288e+00  1.3492775e+00 -1.7783668e+00 ... -1.148473   MF3  \n",
       "3     [-0.7035003  -0.63701534  0.3444556   2.099252... -1.013824   MF1  \n",
       "4     [ 0.3282761   1.4189906  -0.86411697 -0.222535... -1.064858   MF1  \n",
       "...                                                 ...       ...   ...  \n",
       "2915  [ 0.9632327   1.6844323   1.4079297  -1.064359... -1.012856   MF1  \n",
       "2916  [-0.68242043 -0.23369338  1.6419603  -0.024345... -1.195453   MF2  \n",
       "2917  [-1.3458425  -0.9643999   0.6755364   1.273887... -1.353036   MF3  \n",
       "2918  [ 1.7643651   2.0540345   0.26090646 -0.758735... -1.098137   MF1  \n",
       "2919  [ 1.2694118   1.0104603  -1.4340769  -0.628246... -1.278120   MF1  \n",
       "\n",
       "[2920 rows x 5 columns]"
      ]
     },
     "execution_count": 2,
     "metadata": {},
     "output_type": "execute_result"
    }
   ],
   "source": [
    "train_csv = pd.read_csv(\"./results/embebidos_confocales/embs_training.csv\")\n",
    "train_csv"
   ]
  },
  {
   "cell_type": "code",
   "execution_count": 3,
   "id": "3b088e47",
   "metadata": {},
   "outputs": [
    {
     "data": {
      "text/html": [
       "<div>\n",
       "<style scoped>\n",
       "    .dataframe tbody tr th:only-of-type {\n",
       "        vertical-align: middle;\n",
       "    }\n",
       "\n",
       "    .dataframe tbody tr th {\n",
       "        vertical-align: top;\n",
       "    }\n",
       "\n",
       "    .dataframe thead th {\n",
       "        text-align: right;\n",
       "    }\n",
       "</style>\n",
       "<table border=\"1\" class=\"dataframe\">\n",
       "  <thead>\n",
       "    <tr style=\"text-align: right;\">\n",
       "      <th></th>\n",
       "      <th>embedding_mean</th>\n",
       "      <th>embedding_logvar</th>\n",
       "      <th>embeding_z</th>\n",
       "      <th>KL_loss</th>\n",
       "      <th>label</th>\n",
       "    </tr>\n",
       "  </thead>\n",
       "  <tbody>\n",
       "    <tr>\n",
       "      <th>0</th>\n",
       "      <td>[-4.7027984e-01 -1.2011987e+00  6.6006082e-01 ...</td>\n",
       "      <td>[-2.2964659 -2.3215568 -2.4162624 -2.739361  -...</td>\n",
       "      <td>[-4.58456278e-01 -1.29670858e+00  8.75245512e-...</td>\n",
       "      <td>-1.168125</td>\n",
       "      <td>MF2</td>\n",
       "    </tr>\n",
       "    <tr>\n",
       "      <th>1</th>\n",
       "      <td>[ 0.53369427 -0.79866993  0.07052698 -2.003500...</td>\n",
       "      <td>[-1.9900565 -2.484649  -2.625101  -2.348678  -...</td>\n",
       "      <td>[ 3.34926128e-01 -2.66515076e-01 -2.03104094e-...</td>\n",
       "      <td>-1.264808</td>\n",
       "      <td>MF2</td>\n",
       "    </tr>\n",
       "    <tr>\n",
       "      <th>2</th>\n",
       "      <td>[ 1.6847003  -0.40530923  0.3609812  -1.660969...</td>\n",
       "      <td>[-2.5443945 -2.628574  -2.274442  -2.120427  -...</td>\n",
       "      <td>[ 1.6188793  -0.49287525  1.0222472  -1.521254...</td>\n",
       "      <td>-1.102896</td>\n",
       "      <td>MF1</td>\n",
       "    </tr>\n",
       "    <tr>\n",
       "      <th>3</th>\n",
       "      <td>[ 0.5489903  -0.61190915 -0.55269086  1.426916...</td>\n",
       "      <td>[-2.511737  -2.6166553 -2.6042767 -2.7921243 -...</td>\n",
       "      <td>[ 6.9465625e-01 -1.0468049e+00 -1.0354724e+00 ...</td>\n",
       "      <td>-1.252769</td>\n",
       "      <td>MF2</td>\n",
       "    </tr>\n",
       "    <tr>\n",
       "      <th>4</th>\n",
       "      <td>[ 0.63258135  0.5749223   2.0368123  -1.399094...</td>\n",
       "      <td>[-2.0581698 -2.466055  -2.3306198 -2.1862702 -...</td>\n",
       "      <td>[ 0.57666844  0.63172716  2.6946352  -1.468703...</td>\n",
       "      <td>-1.074732</td>\n",
       "      <td>MF1</td>\n",
       "    </tr>\n",
       "    <tr>\n",
       "      <th>...</th>\n",
       "      <td>...</td>\n",
       "      <td>...</td>\n",
       "      <td>...</td>\n",
       "      <td>...</td>\n",
       "      <td>...</td>\n",
       "    </tr>\n",
       "    <tr>\n",
       "      <th>595</th>\n",
       "      <td>[ 4.70227659e-01 -2.62168825e-01  1.78683245e+...</td>\n",
       "      <td>[-2.0245352 -2.5509932 -2.6760468 -2.226676  -...</td>\n",
       "      <td>[ 0.9439905  -0.08291967  1.7688588  -1.489282...</td>\n",
       "      <td>-1.026593</td>\n",
       "      <td>MF1</td>\n",
       "    </tr>\n",
       "    <tr>\n",
       "      <th>596</th>\n",
       "      <td>[-1.755556    0.9470208  -0.437136   -0.222373...</td>\n",
       "      <td>[-2.302046  -3.4066112 -2.9159424 -2.6143928 -...</td>\n",
       "      <td>[-1.8692524   0.7097529  -0.010061   -0.208078...</td>\n",
       "      <td>-1.258897</td>\n",
       "      <td>MF3</td>\n",
       "    </tr>\n",
       "    <tr>\n",
       "      <th>597</th>\n",
       "      <td>[ 0.24548075  1.1279305  -0.8308541  -1.732912...</td>\n",
       "      <td>[-2.4974065 -2.5967727 -2.2207544 -2.1912098 -...</td>\n",
       "      <td>[ 0.55378     0.9371973  -0.39149418 -1.391018...</td>\n",
       "      <td>-1.253409</td>\n",
       "      <td>MF1</td>\n",
       "    </tr>\n",
       "    <tr>\n",
       "      <th>598</th>\n",
       "      <td>[ 0.44074133 -0.16885145 -0.00599233  0.088033...</td>\n",
       "      <td>[-2.278202  -3.0245621 -2.7595057 -2.4750562 -...</td>\n",
       "      <td>[ 0.36635628 -0.20541817  0.3964593   0.128101...</td>\n",
       "      <td>-1.326813</td>\n",
       "      <td>MF3</td>\n",
       "    </tr>\n",
       "    <tr>\n",
       "      <th>599</th>\n",
       "      <td>[-9.6983784e-01 -6.6049021e-01 -3.9486116e-01 ...</td>\n",
       "      <td>[-2.3312557 -2.8104517 -2.5026705 -2.51614   -...</td>\n",
       "      <td>[-1.03075409e+00 -4.10742998e-01 -1.76794365e-...</td>\n",
       "      <td>-1.307443</td>\n",
       "      <td>MF2</td>\n",
       "    </tr>\n",
       "  </tbody>\n",
       "</table>\n",
       "<p>600 rows × 5 columns</p>\n",
       "</div>"
      ],
      "text/plain": [
       "                                        embedding_mean  \\\n",
       "0    [-4.7027984e-01 -1.2011987e+00  6.6006082e-01 ...   \n",
       "1    [ 0.53369427 -0.79866993  0.07052698 -2.003500...   \n",
       "2    [ 1.6847003  -0.40530923  0.3609812  -1.660969...   \n",
       "3    [ 0.5489903  -0.61190915 -0.55269086  1.426916...   \n",
       "4    [ 0.63258135  0.5749223   2.0368123  -1.399094...   \n",
       "..                                                 ...   \n",
       "595  [ 4.70227659e-01 -2.62168825e-01  1.78683245e+...   \n",
       "596  [-1.755556    0.9470208  -0.437136   -0.222373...   \n",
       "597  [ 0.24548075  1.1279305  -0.8308541  -1.732912...   \n",
       "598  [ 0.44074133 -0.16885145 -0.00599233  0.088033...   \n",
       "599  [-9.6983784e-01 -6.6049021e-01 -3.9486116e-01 ...   \n",
       "\n",
       "                                      embedding_logvar  \\\n",
       "0    [-2.2964659 -2.3215568 -2.4162624 -2.739361  -...   \n",
       "1    [-1.9900565 -2.484649  -2.625101  -2.348678  -...   \n",
       "2    [-2.5443945 -2.628574  -2.274442  -2.120427  -...   \n",
       "3    [-2.511737  -2.6166553 -2.6042767 -2.7921243 -...   \n",
       "4    [-2.0581698 -2.466055  -2.3306198 -2.1862702 -...   \n",
       "..                                                 ...   \n",
       "595  [-2.0245352 -2.5509932 -2.6760468 -2.226676  -...   \n",
       "596  [-2.302046  -3.4066112 -2.9159424 -2.6143928 -...   \n",
       "597  [-2.4974065 -2.5967727 -2.2207544 -2.1912098 -...   \n",
       "598  [-2.278202  -3.0245621 -2.7595057 -2.4750562 -...   \n",
       "599  [-2.3312557 -2.8104517 -2.5026705 -2.51614   -...   \n",
       "\n",
       "                                            embeding_z   KL_loss label  \n",
       "0    [-4.58456278e-01 -1.29670858e+00  8.75245512e-... -1.168125   MF2  \n",
       "1    [ 3.34926128e-01 -2.66515076e-01 -2.03104094e-... -1.264808   MF2  \n",
       "2    [ 1.6188793  -0.49287525  1.0222472  -1.521254... -1.102896   MF1  \n",
       "3    [ 6.9465625e-01 -1.0468049e+00 -1.0354724e+00 ... -1.252769   MF2  \n",
       "4    [ 0.57666844  0.63172716  2.6946352  -1.468703... -1.074732   MF1  \n",
       "..                                                 ...       ...   ...  \n",
       "595  [ 0.9439905  -0.08291967  1.7688588  -1.489282... -1.026593   MF1  \n",
       "596  [-1.8692524   0.7097529  -0.010061   -0.208078... -1.258897   MF3  \n",
       "597  [ 0.55378     0.9371973  -0.39149418 -1.391018... -1.253409   MF1  \n",
       "598  [ 0.36635628 -0.20541817  0.3964593   0.128101... -1.326813   MF3  \n",
       "599  [-1.03075409e+00 -4.10742998e-01 -1.76794365e-... -1.307443   MF2  \n",
       "\n",
       "[600 rows x 5 columns]"
      ]
     },
     "execution_count": 3,
     "metadata": {},
     "output_type": "execute_result"
    }
   ],
   "source": [
    "test_csv = pd.read_csv(\"./results/embebidos_confocales/embs_test.csv\")\n",
    "test_csv"
   ]
  },
  {
   "cell_type": "code",
   "execution_count": 4,
   "id": "3b37eae2",
   "metadata": {},
   "outputs": [
    {
     "data": {
      "text/plain": [
       "dict_keys(['MF1', 'MF2', 'MF3'])"
      ]
     },
     "execution_count": 4,
     "metadata": {},
     "output_type": "execute_result"
    }
   ],
   "source": [
    "scaler = MinMaxScaler(feature_range=(0, 1))\n",
    "classes = {i:[] for i in train_csv['label'].unique()}\n",
    "for c in classes:\n",
    "    rescaled = scaler.fit_transform(\n",
    "        train_csv.loc[\n",
    "            (train_csv['label'] == c)\n",
    "        ]['KL_loss'].values.reshape(-1, 1)\n",
    "    )\n",
    "    classes[c].append(rescaled[:,0])\n",
    "    rescaled = scaler.fit_transform(\n",
    "        test_csv.loc[\n",
    "            (test_csv['label'] == c)\n",
    "        ]['KL_loss'].values.reshape(-1, 1)\n",
    "    )\n",
    "    classes[c].append(rescaled[:,0])\n",
    "classes.keys()"
   ]
  },
  {
   "cell_type": "code",
   "execution_count": 5,
   "id": "7289c2ea",
   "metadata": {},
   "outputs": [
    {
     "data": {
      "text/plain": [
       "0.43333333333333335"
      ]
     },
     "execution_count": 5,
     "metadata": {},
     "output_type": "execute_result"
    }
   ],
   "source": [
    "shapeness_level(classes[\"MF1\"], classes[\"MF2\"], classes[\"MF3\"], seed=8128)"
   ]
  },
  {
   "cell_type": "code",
   "execution_count": 6,
   "id": "5ee6d5a4",
   "metadata": {},
   "outputs": [
    {
     "data": {
      "text/plain": [
       "0.5333333333333333"
      ]
     },
     "execution_count": 6,
     "metadata": {},
     "output_type": "execute_result"
    }
   ],
   "source": [
    "homocedasticity_level(classes[\"MF1\"], classes[\"MF2\"], classes[\"MF3\"])"
   ]
  },
  {
   "cell_type": "code",
   "execution_count": 7,
   "id": "8f3038ee",
   "metadata": {},
   "outputs": [
    {
     "data": {
      "text/plain": [
       "MannwhitneyuResult(statistic=415243.0, pvalue=2.8556938780000074e-07)"
      ]
     },
     "execution_count": 7,
     "metadata": {},
     "output_type": "execute_result"
    }
   ],
   "source": [
    "mannwhitneyu(classes['MF1'][0], classes['MF2'][0])"
   ]
  },
  {
   "cell_type": "code",
   "execution_count": 8,
   "id": "44830afa",
   "metadata": {},
   "outputs": [
    {
     "data": {
      "text/plain": [
       "MannwhitneyuResult(statistic=848990.0, pvalue=4.190830141545065e-35)"
      ]
     },
     "execution_count": 8,
     "metadata": {},
     "output_type": "execute_result"
    }
   ],
   "source": [
    "mannwhitneyu(classes['MF2'][0], classes['MF3'][0])"
   ]
  },
  {
   "cell_type": "code",
   "execution_count": 9,
   "id": "858ffc94",
   "metadata": {},
   "outputs": [
    {
     "data": {
      "text/plain": [
       "MannwhitneyuResult(statistic=513823.0, pvalue=7.38170949772368e-49)"
      ]
     },
     "execution_count": 9,
     "metadata": {},
     "output_type": "execute_result"
    }
   ],
   "source": [
    "mannwhitneyu(classes['MF1'][0], classes['MF3'][0])"
   ]
  },
  {
   "cell_type": "code",
   "execution_count": 10,
   "id": "6037c665",
   "metadata": {
    "scrolled": true
   },
   "outputs": [
    {
     "ename": "ValueError",
     "evalue": "For each axis slice, the sum of the observed frequencies must agree with the sum of the expected frequencies to a relative tolerance of 1e-08, but the percent differences are:\n0.013141922332551827",
     "output_type": "error",
     "traceback": [
      "\u001b[0;31m---------------------------------------------------------------------------\u001b[0m",
      "\u001b[0;31mValueError\u001b[0m                                Traceback (most recent call last)",
      "Cell \u001b[0;32mIn[10], line 1\u001b[0m\n\u001b[0;32m----> 1\u001b[0m \u001b[43mchisquare\u001b[49m\u001b[43m(\u001b[49m\u001b[38;5;28;43msorted\u001b[39;49m\u001b[43m(\u001b[49m\u001b[43mclasses\u001b[49m\u001b[43m[\u001b[49m\u001b[38;5;124;43m'\u001b[39;49m\u001b[38;5;124;43mMF1\u001b[39;49m\u001b[38;5;124;43m'\u001b[39;49m\u001b[43m]\u001b[49m\u001b[43m[\u001b[49m\u001b[38;5;241;43m1\u001b[39;49m\u001b[43m]\u001b[49m\u001b[43m)\u001b[49m\u001b[43m,\u001b[49m\u001b[43m \u001b[49m\u001b[38;5;28;43msorted\u001b[39;49m\u001b[43m(\u001b[49m\u001b[43mclasses\u001b[49m\u001b[43m[\u001b[49m\u001b[38;5;124;43m'\u001b[39;49m\u001b[38;5;124;43mMF2\u001b[39;49m\u001b[38;5;124;43m'\u001b[39;49m\u001b[43m]\u001b[49m\u001b[43m[\u001b[49m\u001b[38;5;241;43m1\u001b[39;49m\u001b[43m]\u001b[49m\u001b[43m)\u001b[49m\u001b[43m)\u001b[49m\n",
      "File \u001b[0;32m/usr/local/lib/python3.8/dist-packages/scipy/stats/_stats_py.py:7553\u001b[0m, in \u001b[0;36mchisquare\u001b[0;34m(f_obs, f_exp, ddof, axis)\u001b[0m\n\u001b[1;32m   7428\u001b[0m \u001b[38;5;28;01mdef\u001b[39;00m \u001b[38;5;21mchisquare\u001b[39m(f_obs, f_exp\u001b[38;5;241m=\u001b[39m\u001b[38;5;28;01mNone\u001b[39;00m, ddof\u001b[38;5;241m=\u001b[39m\u001b[38;5;241m0\u001b[39m, axis\u001b[38;5;241m=\u001b[39m\u001b[38;5;241m0\u001b[39m):\n\u001b[1;32m   7429\u001b[0m \u001b[38;5;250m    \u001b[39m\u001b[38;5;124;03m\"\"\"Calculate a one-way chi-square test.\u001b[39;00m\n\u001b[1;32m   7430\u001b[0m \n\u001b[1;32m   7431\u001b[0m \u001b[38;5;124;03m    The chi-square test tests the null hypothesis that the categorical data\u001b[39;00m\n\u001b[0;32m   (...)\u001b[0m\n\u001b[1;32m   7551\u001b[0m \n\u001b[1;32m   7552\u001b[0m \u001b[38;5;124;03m    \"\"\"\u001b[39;00m\n\u001b[0;32m-> 7553\u001b[0m     \u001b[38;5;28;01mreturn\u001b[39;00m \u001b[43mpower_divergence\u001b[49m\u001b[43m(\u001b[49m\u001b[43mf_obs\u001b[49m\u001b[43m,\u001b[49m\u001b[43m \u001b[49m\u001b[43mf_exp\u001b[49m\u001b[38;5;241;43m=\u001b[39;49m\u001b[43mf_exp\u001b[49m\u001b[43m,\u001b[49m\u001b[43m \u001b[49m\u001b[43mddof\u001b[49m\u001b[38;5;241;43m=\u001b[39;49m\u001b[43mddof\u001b[49m\u001b[43m,\u001b[49m\u001b[43m \u001b[49m\u001b[43maxis\u001b[49m\u001b[38;5;241;43m=\u001b[39;49m\u001b[43maxis\u001b[49m\u001b[43m,\u001b[49m\n\u001b[1;32m   7554\u001b[0m \u001b[43m                            \u001b[49m\u001b[43mlambda_\u001b[49m\u001b[38;5;241;43m=\u001b[39;49m\u001b[38;5;124;43m\"\u001b[39;49m\u001b[38;5;124;43mpearson\u001b[39;49m\u001b[38;5;124;43m\"\u001b[39;49m\u001b[43m)\u001b[49m\n",
      "File \u001b[0;32m/usr/local/lib/python3.8/dist-packages/scipy/stats/_stats_py.py:7394\u001b[0m, in \u001b[0;36mpower_divergence\u001b[0;34m(f_obs, f_exp, ddof, axis, lambda_)\u001b[0m\n\u001b[1;32m   7388\u001b[0m     \u001b[38;5;28;01mif\u001b[39;00m diff_gt_tol:\n\u001b[1;32m   7389\u001b[0m         msg \u001b[38;5;241m=\u001b[39m (\u001b[38;5;124mf\u001b[39m\u001b[38;5;124m\"\u001b[39m\u001b[38;5;124mFor each axis slice, the sum of the observed \u001b[39m\u001b[38;5;124m\"\u001b[39m\n\u001b[1;32m   7390\u001b[0m                \u001b[38;5;124mf\u001b[39m\u001b[38;5;124m\"\u001b[39m\u001b[38;5;124mfrequencies must agree with the sum of the \u001b[39m\u001b[38;5;124m\"\u001b[39m\n\u001b[1;32m   7391\u001b[0m                \u001b[38;5;124mf\u001b[39m\u001b[38;5;124m\"\u001b[39m\u001b[38;5;124mexpected frequencies to a relative tolerance \u001b[39m\u001b[38;5;124m\"\u001b[39m\n\u001b[1;32m   7392\u001b[0m                \u001b[38;5;124mf\u001b[39m\u001b[38;5;124m\"\u001b[39m\u001b[38;5;124mof \u001b[39m\u001b[38;5;132;01m{\u001b[39;00mrtol\u001b[38;5;132;01m}\u001b[39;00m\u001b[38;5;124m, but the percent differences are:\u001b[39m\u001b[38;5;130;01m\\n\u001b[39;00m\u001b[38;5;124m\"\u001b[39m\n\u001b[1;32m   7393\u001b[0m                \u001b[38;5;124mf\u001b[39m\u001b[38;5;124m\"\u001b[39m\u001b[38;5;132;01m{\u001b[39;00mrelative_diff\u001b[38;5;132;01m}\u001b[39;00m\u001b[38;5;124m\"\u001b[39m)\n\u001b[0;32m-> 7394\u001b[0m         \u001b[38;5;28;01mraise\u001b[39;00m \u001b[38;5;167;01mValueError\u001b[39;00m(msg)\n\u001b[1;32m   7396\u001b[0m \u001b[38;5;28;01melse\u001b[39;00m:\n\u001b[1;32m   7397\u001b[0m     \u001b[38;5;66;03m# Ignore 'invalid' errors so the edge case of a data set with length 0\u001b[39;00m\n\u001b[1;32m   7398\u001b[0m     \u001b[38;5;66;03m# is handled without spurious warnings.\u001b[39;00m\n\u001b[1;32m   7399\u001b[0m     \u001b[38;5;28;01mwith\u001b[39;00m np\u001b[38;5;241m.\u001b[39merrstate(invalid\u001b[38;5;241m=\u001b[39m\u001b[38;5;124m'\u001b[39m\u001b[38;5;124mignore\u001b[39m\u001b[38;5;124m'\u001b[39m):\n",
      "\u001b[0;31mValueError\u001b[0m: For each axis slice, the sum of the observed frequencies must agree with the sum of the expected frequencies to a relative tolerance of 1e-08, but the percent differences are:\n0.013141922332551827"
     ]
    }
   ],
   "source": [
    "chisquare(sorted(classes['MF1'][1]), sorted(classes['MF2'][1]))"
   ]
  },
  {
   "cell_type": "markdown",
   "id": "ddb5f7bf",
   "metadata": {},
   "source": [
    "# By embedding vectors"
   ]
  },
  {
   "cell_type": "code",
   "execution_count": null,
   "id": "6138b7bb",
   "metadata": {},
   "outputs": [],
   "source": [
    "train_embeddings = np.load(\"./results/embebidos_confocales/embs_logvar/embs_logvar_training.npy\")\n",
    "test_embeddings = np.load(\"./results/embebidos_confocales/embs_logvar/embs_logvar_test.npy\")\n",
    "train_embeddings.shape, test_embeddings.shape"
   ]
  },
  {
   "cell_type": "code",
   "execution_count": null,
   "id": "6b1d5073",
   "metadata": {},
   "outputs": [],
   "source": [
    "for i, z in enumerate(train_embeddings):\n",
    "    assert str(z) == train_csv.loc[i, 'embedding_logvar']\n",
    "for i, z in enumerate(test_embeddings):\n",
    "    assert str(z) == test_csv.loc[i, 'embedding_logvar']"
   ]
  },
  {
   "cell_type": "code",
   "execution_count": null,
   "id": "f46f97a5",
   "metadata": {},
   "outputs": [],
   "source": [
    "train_classes = {i:[] for i in train_csv['label'].unique()}\n",
    "test_classes = {i:[] for i in test_csv['label'].unique()}\n",
    "for i, z in enumerate(train_embeddings):\n",
    "    c = train_csv.loc[i, 'label']\n",
    "    train_classes[c].append(z)\n",
    "    \n",
    "for i, z in enumerate(test_embeddings):\n",
    "    c = test_csv.loc[i, 'label']\n",
    "    test_classes[c].append(z)\n",
    "    \n",
    "train_classes.keys(), test_classes.keys()"
   ]
  },
  {
   "cell_type": "code",
   "execution_count": null,
   "id": "4c720d50",
   "metadata": {},
   "outputs": [],
   "source": [
    "selected_seed = 8128\n",
    "n_components = train_embeddings.shape[1]\n",
    "\n",
    "component_results = []\n",
    "for i in range(n_components):\n",
    "    shape = shapeness_level(\n",
    "        [np.r_[train_classes[\"MF1\"]][:, i], np.r_[test_classes[\"MF1\"]][:, i]], \n",
    "        [np.r_[train_classes[\"MF2\"]][:, i], np.r_[test_classes[\"MF2\"]][:, i]], \n",
    "        [np.r_[train_classes[\"MF3\"]][:, i], np.r_[test_classes[\"MF3\"]][:, i]], \n",
    "    seed=8128)\n",
    "    homo = homocedasticity_level(\n",
    "        [np.r_[train_classes[\"MF1\"]][:, i], np.r_[test_classes[\"MF1\"]][:, i]], \n",
    "        [np.r_[train_classes[\"MF2\"]][:, i], np.r_[test_classes[\"MF2\"]][:, i]], \n",
    "        [np.r_[train_classes[\"MF3\"]][:, i], np.r_[test_classes[\"MF3\"]][:, i]]\n",
    "    )\n",
    "    component_results.append([i+1, shape, homo])\n",
    "results_df = pd.DataFrame(component_results, columns=[\"component\", \"shape\", \"homo\"])\n",
    "results_df"
   ]
  },
  {
   "cell_type": "code",
   "execution_count": null,
   "id": "e2981d83",
   "metadata": {},
   "outputs": [],
   "source": [
    "results_df.to_csv(\"./results/embebidos_confocales/stats_emb_logvar.csv\", index=False)\n",
    "results_df.describe()"
   ]
  },
  {
   "cell_type": "code",
   "execution_count": 12,
   "id": "6f4d073e",
   "metadata": {},
   "outputs": [
    {
     "data": {
      "text/html": [
       "<div>\n",
       "<style scoped>\n",
       "    .dataframe tbody tr th:only-of-type {\n",
       "        vertical-align: middle;\n",
       "    }\n",
       "\n",
       "    .dataframe tbody tr th {\n",
       "        vertical-align: top;\n",
       "    }\n",
       "\n",
       "    .dataframe thead th {\n",
       "        text-align: right;\n",
       "    }\n",
       "</style>\n",
       "<table border=\"1\" class=\"dataframe\">\n",
       "  <thead>\n",
       "    <tr style=\"text-align: right;\">\n",
       "      <th></th>\n",
       "      <th>component</th>\n",
       "      <th>shape</th>\n",
       "      <th>homo</th>\n",
       "    </tr>\n",
       "  </thead>\n",
       "  <tbody>\n",
       "    <tr>\n",
       "      <th>count</th>\n",
       "      <td>128.000000</td>\n",
       "      <td>1.280000e+02</td>\n",
       "      <td>128.000000</td>\n",
       "    </tr>\n",
       "    <tr>\n",
       "      <th>mean</th>\n",
       "      <td>64.500000</td>\n",
       "      <td>2.000000e-01</td>\n",
       "      <td>0.666667</td>\n",
       "    </tr>\n",
       "    <tr>\n",
       "      <th>std</th>\n",
       "      <td>37.094474</td>\n",
       "      <td>2.786464e-17</td>\n",
       "      <td>0.119345</td>\n",
       "    </tr>\n",
       "    <tr>\n",
       "      <th>min</th>\n",
       "      <td>1.000000</td>\n",
       "      <td>2.000000e-01</td>\n",
       "      <td>0.400000</td>\n",
       "    </tr>\n",
       "    <tr>\n",
       "      <th>25%</th>\n",
       "      <td>32.750000</td>\n",
       "      <td>2.000000e-01</td>\n",
       "      <td>0.600000</td>\n",
       "    </tr>\n",
       "    <tr>\n",
       "      <th>50%</th>\n",
       "      <td>64.500000</td>\n",
       "      <td>2.000000e-01</td>\n",
       "      <td>0.666667</td>\n",
       "    </tr>\n",
       "    <tr>\n",
       "      <th>75%</th>\n",
       "      <td>96.250000</td>\n",
       "      <td>2.000000e-01</td>\n",
       "      <td>0.733333</td>\n",
       "    </tr>\n",
       "    <tr>\n",
       "      <th>max</th>\n",
       "      <td>128.000000</td>\n",
       "      <td>2.000000e-01</td>\n",
       "      <td>1.000000</td>\n",
       "    </tr>\n",
       "  </tbody>\n",
       "</table>\n",
       "</div>"
      ],
      "text/plain": [
       "        component         shape        homo\n",
       "count  128.000000  1.280000e+02  128.000000\n",
       "mean    64.500000  2.000000e-01    0.666667\n",
       "std     37.094474  2.786464e-17    0.119345\n",
       "min      1.000000  2.000000e-01    0.400000\n",
       "25%     32.750000  2.000000e-01    0.600000\n",
       "50%     64.500000  2.000000e-01    0.666667\n",
       "75%     96.250000  2.000000e-01    0.733333\n",
       "max    128.000000  2.000000e-01    1.000000"
      ]
     },
     "execution_count": 12,
     "metadata": {},
     "output_type": "execute_result"
    }
   ],
   "source": [
    "pd.read_csv('./results/embebidos_confocales/stats_emb_logvar.csv').describe()"
   ]
  },
  {
   "cell_type": "markdown",
   "id": "6c451cf8",
   "metadata": {},
   "source": [
    "# Other statistical test for components"
   ]
  },
  {
   "cell_type": "code",
   "execution_count": null,
   "id": "cb11a2f2",
   "metadata": {},
   "outputs": [],
   "source": [
    "classes['MF1']"
   ]
  }
 ],
 "metadata": {
  "kernelspec": {
   "display_name": "Python 3 (ipykernel)",
   "language": "python",
   "name": "python3"
  },
  "language_info": {
   "codemirror_mode": {
    "name": "ipython",
    "version": 3
   },
   "file_extension": ".py",
   "mimetype": "text/x-python",
   "name": "python",
   "nbconvert_exporter": "python",
   "pygments_lexer": "ipython3",
   "version": "3.8.10"
  }
 },
 "nbformat": 4,
 "nbformat_minor": 5
}
